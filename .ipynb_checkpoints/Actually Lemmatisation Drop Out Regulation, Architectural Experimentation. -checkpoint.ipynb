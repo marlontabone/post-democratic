{
 "cells": [
  {
   "cell_type": "markdown",
   "metadata": {},
   "source": [
    "# In Memoriam, a shift into the post-democratic\n",
    "## Student: Marlon Tabone\n",
    "### Model Training\n",
    "\n",
    "This notebook details the processes of training models on datasets to generate a model which is able to output text pertinent to Daphne's subjects and style of writing in her blog \"Running Commentary\""
   ]
  },
  {
   "cell_type": "code",
   "execution_count": 30,
   "metadata": {},
   "outputs": [
    {
     "name": "stderr",
     "output_type": "stream",
     "text": [
      "[nltk_data] Downloading package wordnet to\n",
      "[nltk_data]     /Users/marlontabone/nltk_data...\n",
      "[nltk_data]   Package wordnet is already up-to-date!\n"
     ]
    }
   ],
   "source": [
    "# importing necessary libraries, packages for text preprocessing \n",
    "import nltk\n",
    "import string\n",
    "from tensorflow.keras.preprocessing.text import Tokenizer\n",
    "from tensorflow.keras.utils import to_categorical\n",
    "from nltk.tokenize import word_tokenize\n",
    "from nltk.corpus import stopwords\n",
    "nltk.download('wordnet')\n",
    "from nltk.stem import \tWordNetLemmatizer\n",
    "\n",
    "#importing layers,models and optimizers from Keras tensorflow\n",
    "\n",
    "from tensorflow.keras import layers\n",
    "from tensorflow.keras import models\n",
    "from tensorflow.keras import optimizers\n",
    "import codecs\n",
    "import collections"
   ]
  },
  {
   "cell_type": "markdown",
   "metadata": {},
   "source": [
    "Loading the dataset on which to train our models..."
   ]
  },
  {
   "cell_type": "code",
   "execution_count": 31,
   "metadata": {},
   "outputs": [
    {
     "name": "stdout",
     "output_type": "stream",
     "text": [
      "Corpus length: 39924\n",
      "and he gets a good answer too also shouldnt the education minister a university lecturer be quoting from source rather than just googling facebookfriendly quotes but hell be hard pushed to find a source for that one the clue is in the use of revenge as a verb one takes revenge one does not revenge but im sure the man who pretends to love english so as to pick up the votes of undiscriminating pepe types knows that alreadysuch rubbish  even in the education ministry  stephen bonellos cartoon in the sunday times today  i love it  britains supreme court has ruled today that the referendum result on britains exit from the european union does not give the government a mandate and that the matter must be decided by parliamentthis is a timely reminder that in representative democracies there can be no government by mob rule  and a referendum is essentially not an exercise in democracy but in mob rulethe referendum is of great political significance but the act of parliament which established it did not say what should happen as a result so any change in the law to give effect to the referendum must be made in the only way permitted by the uk constitution namely by an act of parliament david neuberger the president of the supreme court said when reading the judgement to proceed otherwise would be a breach of settled constitutional principles stretching back many centuriesit is also a reminder  to us in malta too as our system is the same  that the supremacy of parliament is greater than that of the government and that the government is only the government because it commands the greater number of seats in parliament it cannot act without parliamentthis is also testament to the power of a single individual in a true democracy with functional institutions to challenge the government with recourse to the constitution the case was set in motion by gina miller an investment adviser who challenged the governments decision to take britain out of the european union without a parliamentary vote of consentshe won the case in the court of first instance the government appealed and lost  disgraced former european commissioner john dalli a consultant to prime minister muscat has made a formal request to the police to prosecute me for harassing himi will keep you updated on this matter meanwhile i am seeking advice on aspects related to constitutional law and human rights in readiness to challenge this abuse of power and violation of my rights to freedom of expression as an ordinary citizen and above all as a journalist with the duty to hold people like him to accountthe police apparently wish to interrogate me about my attempts at harassing the prime ministers consultant they had better prepare a warrant for my arrest  which is going to look spectacularly good and even better while malta holds the presidency of the european council  because i am not going to comply on principlethe police believe that they have got to comply when they receive a formal request for prosecution kwerela and then it is up to the courts to decide but they are wrong the process of interrogation prosecution criminal charges interminable court appearances and legal costs is in itself a form of harassment most especially when used by politicians and others in power against the journalists who draw public attention to their wrongdoing abuse and multiple failingsit has what the european court of human rights calls a chilling effect on journalists and is fundamentally abusive in itselfif john dalli thinks i have lied about him or distorted the facts in his regard then he has recourse to the law under the press act for libel he can file a civil suit as normal people dobut instructing the police to harass and prosecute a journalist for writing about him is something straight out of the states with which dalli and his client joseph muscat are most comfortable  i listened to david thakes show on radio 101 yesterday he tried to ring labour mp luciano busuttil repeatedly about this matter  each time busuttil hit the callreject buttonthake has just opened his show today with another attempt at ringing him and again busuttil hit the callreject button because theres not much he can say is there his wife isnt even remotely disabled and yet she has used a disabledparking badge on her car for four years and busuttil himself transfers it to his car for family outings so that no member of the busuttil entourage has to walk anywhere dorothy busuttil arrives at her destination armed with a disabledparking badge slips into a disabledparking spot and gets out to race around in shoes with skyscraper heels the sort which have you standing effectively on tiptoe with your toes trapped in a vicetrid tkun ilvera bogan  is there any opportunity provided by their being in power that they wont exploit having created it for their very purpose in the first placeand we keep forgetting that its not really a triad because theres a fourth person very tightly involved with joseph muscat keith schembri and konrad mizzi phyllis muscatso joseph muscat konrad mizzi and keith schembri sign over several of maltas public hospitals to a shady front man called ram tumuluri saying that it will help with medical tourism and then inevitably we discover that phyllis muscat has set up an office to handle medical tourism to malta with another taghna lkoller called claire cassar neither of them has any experience at all in the sector but amazingly temos has found them to be ideal  for the same purposes an international company would find somebody to be ideal in a corrupt dictatorshipthats how bad things have become here those avaricious individuals are not just sucking the trough dry but also creating more and more troughs in which to wallowread more here  isnt it obvious its going to be in march next year thats when the five years are up nobody with even the most basic insight into how those minds work would have imagined it would be any earlier than that  later if anything to give them more time to cover their tracks delete evidence make themselves safe from investigation and prosecution fit in a little more haymaking and fight hard to avoid a situation in which they have to face the police a lot sooner than they thinkmela ħasibna ċwieċ  has it gone to their heads or what it looks like all these labour bastards began cheating on their wives and the mothers of their children as soon as they got into power its just one after the other and then not content with that they bring their girlfriends on board the gravytrain tooalfred mifsud is the deputy governor of the central bank of malta for heavens sake a sex cheat sending messages to his secret girlfriend while the mother of his children is sitting opposite him at a restaurant table then filing a court case to have her and their children evicted from their home on the grounds that he owns it and it is registered in his name what sort of person does that to his children cheat on their mother and then go to court to force them out of their home so that his girlfriend can use it instead i mean reallyits not as though we should expect everybody in public life to be some kind of pillar of moral rectitude but there are limits and this is the deputy governor of the central bank somebody who should command respect the only reason that he isnt actually governor of the central bank is that i reported this story detailed in court this morning  just in time to stop this cheating shambles being put in charge of maltas most important financial institutionmen who cheat on the mother of their children will cheat on anything  as in fact happened   malta was 37th on transparency internationals corruption perceptions index in 2015 in 2016 it sank to 47th place and now ranks below the bahamasit was the year when the world discovered that maltas energy minister konrad mizzi and the prime ministers chief of staff keith schembri had begun the process to set up covert companies in panama sheltered by secret trusts in new zealand just days after coming to power in march 2013 and that the prime minister isnt able or willing to do anything about it because a third panama company associated with theirs is almost certainly hisit was the year when people watched as the commissioner of police resigned rather than do anything about the chief of the financial intelligence analysis unit left his post in despair labour party functionaries and failed politicians were made magistrates and judges state councils institutions government departments commissions and committees were ethnically cleansed even further to give the government absolute control and the ability to instil fear in others through the threat of retaliatory measures and vengeancehospitals the power station skyscrapers public transport public appointments the jordanian university of bribes and baksheesh represented in malta by the labour partys longtime auditor  nothing has been left untainted by corruption and scandalthis is the supposedly liberal and progressive most transparent government ever in the history of malta and then the corrupt idiots actually imagine that lloyds is going to set up its new headquarters in this filthy place with such a bad reputation post brexit they got put in their place pretty rapidly on that one  read this story  in the times of malta this morning over the last few weeks this website has featured photographs of the kind of planes air malta has been wetleasing and the complaints of passengers who booked a flight with air malta and ended up on a converted cargo plane or a tacky ellinair aircraft with nonfunctioning lavatoriesthats what you get when you rope in the manager of the islands cocacola bottling plant to run the national airline  while shes still running the cocacola bottling plant maria micallef is air maltas chairman but already shes seen off two wellrespected ceos louis giordmaina formerly of lufthansa technik and philip micallef formerly of the malta communications authority to plant herself on centrestage and serve the governments specialised interests rather than those of the airline itself and no doubt her own interests too because she even sought and gained advantage for her unemployable boyfriendso the incoming labour government removed air maltas then ceo peter davis in 2013 after years of campaigning against him while they were in opposition saying he was paid too much and that a maltese person could do it because you know how it is malta is teeming with aviation industry crisis management specialists and they installed the manager of a soft drinks bottling plant instead and are now probably wondering why the crisis downwardspiralled into a catastrophethe trouble with the labour party is that they think anybody can do any job with no special skills required look at them  look at every decision theyve taken its all been based on that assumption they give a power station contract to maltese tinpot businessmen who run car dealerships and hotels and build flats they sign over maltas public hospital to a canadianindian fraudster who couldnt even run a guesthouse without bankrupting it they install people in public positions who have neither the skills nor the track record to qualify them for the job its just horrendous  i have read this report in the times of malta  and watched the embedded video interview with mario demarco deputy leader of the nationalist party i will try to be as tactful as possiblethe trouble with this country is that people dont understand the meaning of the word choices which cohabits with that other alien word decisions maltese people want to wear lots of hats simultaneously and think they have a divine right not to be criticised if they cant cope with all of them and other maltese people who think this state of affairs is entirely normal speak and behave as though the job or post should accommodate the person when everywhere else in the civilised normal world its the other way round the inability to cope due to illness is not a justified excuse to fend off those who point out that you are failing to deliver you cant cry oh but im too ill to cope illness is a reason for resignation if you are in a ceo or deputy ceo position because the nature of that position means that you cannot be temporarily replaced or filled in for and that the functioning of the organisation depends on your pulling your full weight those who care about their duties more than they care about themselves dont stay in situ while the job fails to get done and then get angry and hurt when they are reminded that they are there to do a job and that the job has got to be doneas i said to mario demarco myself when he rang me the day i wrote what i did  we spoke for a long time and much of it was personal confidential and cant be reported  when his medical problems are of that nature what he needs most of all is peace of mind and as little stress as possible i cant understand why youre not prioritising i said to him there are no supermen in this world in your position i would have stepped down i cant imagine having to cope with such a serious medical problem while stressing out about all the other stuff what on earth forit is plainly obvious to any sensible person that demarco has got to make a choice it is too late now to make the choice to leave the deputy leadership  the general election is just a year away and that choice should have been made as soon as he was diagnosed so the choice he has to make now is to throw his entire weight behind the campaign to get rid of the corrupt government lying low and crying illness is simply not an option besides which the same complaints were made about his invisibility back in the electoral campaign of 2013 and he wasnt ill or undergoing surgery back theni am not one to say things behind peoples backs rather than straight to their faces so unlike all those who are muttering that demarco is as invisible now as he was in the general election campaign i said what i think when we spoke on the phone i said to him that it is not possible for any human being to cope with a demanding professional practice a seat in parliament and a constituency a position as deputy leader of a political party which has to fight a tough electoral battle while restructuring the party itself a young family and also a very serious illness which has twice required major surgery and which has had permanent debilitating consequences both physical and psychological it is impossible to do all that so something has to go mario demarco never wanted to go into politics he absolutely detests the limelight and is a very private person that is the real reason he failed to speak publicly about his illness and not because he wished to conceal information from the public for nefarious ends like that other one in the auberge de castille but this is the classic heatandkitchen scenario he is also shy selfconscious and extremely reserved these are good qualities in a man but they are not good qualities for fighting dangerous electoral battlesdemarco wanted to be a lawyer working in new york he said as much once in an interview but most of us knew that anyway he went into politics for his father and he has stayed on as a tribute to his father and unfortunately it shows as he himself says unlike his father he is not a political animal at all and as it happens thats exactly why i like him and think he has made enough sacrifices to fulfil the wishes of others now its time to do what he really wants to do which clearly isnt politics instead of listening to the aides who want him back in power so that they can be in power themselves he should listen to his own heart and i told him this myselfmario demarco is at a personal crossroads he must now choose between putting his true nature aside staying on as deputy leader of the nationalist party and fighting hard against government corruption or stepping down to follow his own heart for the first time we dont get to live our lives twice over  robert abela is a nasty piece of work who spent five years freeloading at three palaces with his labour party executive wife lydia when his father was head of state but who then had no problem of conscience in taking to a mass meeting stage to verbally knife the man who made it possible prime minister gonzi  the very same man who also made it possible for his law firm to get the malta planning authority legalcounsel contract for years and years and years disgustingnow today robert abela is out to prove that as well as being a freeloading bum who grabs what he can no matter who is in government hes also good at playing at stupid sitting side by side with owen bonnici  he told the press that zaren vassallo of vassallo builders lied when he said he paid €8 million to marsovin for the qormi land because he only paid €900000 and absorbed €71 million of their brewery debtswho are they trying to kid they speak to even intelligent audiences as though theyre the congregation at one of silvio parniss coffee mornings and unfortunately the newspapers dont help because instead of putting the facts into context they run with the headline that labour wantsi was immediately swamped by emails from people who read the story and were shocked at what robert abela had said how can he be so stupid was the general tone when you buy a company and agree to absorb its debts the debts are factored into the price you pay if you absorb €71 million of the companys debts and pay the shareholders €900000 youve paid €8 million for the company  absorbing the debts means youre paying them yourself youve bought the company the company for €8 million but because it is saddled with debts of €71 million which you have got to pay yourself you give the shareholders €900000a reader who is a corporate financial controller wrote in no wonder theyre making such a bloody mess if they cant understand something so basicand to demonstrate that it is robert abela and the justice minister who are lying or damned stupid heres something that i hadnt bothered to upload with my original report about the subject  though it looks like i should have the actual contract of purchase for the sum of €8 million  you couldnt make these freeloading bogans up perhaps mrs luciano busuttil will now write us a little explanation of how she came to be put on the payroll at the malta gaming authority after taghna lkoll got into power and the malta gaming authority was turned into a labour snakepitnote to dorothy everywhere in europe the only women who wear makeup like that especially in the daytime are hookers thick masklike makeup in the european context is socially unacceptable for roughly the same reason as actual masks are      all you had to do was look at who nominated them and who they nominated heres maria micallef air malta chairman back in the summer of 2014 when this ridiculous business was all the rage michelle muscat nominated her she says  and she herself nominates phyllis muscat what can i say cute      time for a memoryrefresh three months after labour won the general elections joseph muscat called the press to the office of the prime minister and presented them with john dalli announcing that a man of such great talent should not go to waste and that he required dallis excellent skills in a decisionmaking position it later emerged that this decisionmaking position concerned public hospitals and dalli immediately installed himself at the state general hospital along with his daughterthis announcement see videos below took place on 14 june 10 days after konrad mizzis hearnville inc and keith schembris tillgate inc were incorporated in panama egrant inc the name of whose ultimate beneficial owner was not recorded in the panama papers emailcache because it was given over skype was incorporated on 4 july  youd think that politicians and activists who work for political parties would know that the descriptors moderate and extremist refer to ideology and policy but with the labour party thats not the case  largely because the words policy and ideology mean nothing to them labour thinks in these terms power  money contracts and jobsin politics an extremist is somebody who espouses far right ideology kick out immigrants for example or malta for the maltese or at the other end of the spectrum somebody who passes a law saying that you can change your gender by going to a notary and having a deed drawn up  no need for surgery or anything like thatmoderates meanwhile are nice civilised people who just want a quiet public life with no corrupt politicians respect the rights of others and believe in freedom of expression without the pollution of government aides trying to frighten critics into silence  among other thingsbut thats not how the labour partygovernment reads it to those ignorant goons moderates are people who dont criticise the labour party much or nationalist politicians who give labour a free or easy ride and extremists are those who give corrupt labour the bollocking it deserves so i who am not involved in politics at all and who espouses the most moderate kind of political ideology liberal far removed from the extremes of right and left am an extremist for calling out the labour government on its shocking corruption and for pointing out that when we out here are relying on the nationalist party to rid us of those criminals those nationalist politicians who are not pulling their weight either because they are unable or unwilling to do so are letting us downthe definition of a political extremist is not a citizen or journalist with an extreme desire to see the back of this corrupt and abusive outfit thats the definition of a normal decent personbut the defining characteristic of the malta labour party other than abuse and corruption is ignorance about the meaning of words and concepts  if the corrupt cabal in government are reduced to wheeling out owen talajkla to go after jason azzopardi with the help of the super one cameras theyre not getting anywhere fast because the whole thing reeks of desperationthey are however putting the usually calm and collected azzopardi under massive amounts of psychological stress to the point where it shows that he cant focus in his usual manner ad that is exactly why the governmentlabour party are going after him he now looks and feels hunted by malign people in power which has been the intention all alongthat would be why he took the illconceived decision to ring the police when he found the labour party cameras and propagandists outside his office it was a decision he wouldnt have taken if he were thinking clearly when the mental fog lifted he apologisedazzopardi has open lines of communications with journalists in the independent press he is one of the most accessible politicians in that respect we all know that he takes calls returns them messages with an apology if he cant answer the phone gives answers and promises to get the answer if he cant do it there and then and does soit was so unjust therefore that the ridiculous institute of maltese journalists issued a statement taking him to task for ringing the police when he found labour party employees with their cameras outside his office have they ever leaped to my defence in that way no much how much harassment i have gone through at the hands of the police and politicians no and i actually am a journalist rather than an employee of a political party the institute of maltese journalists is politically motivedthe employees of political parties are not journalists in the real sense of the word and it is high time this important point is considered and the distinction made the fundamental principles which underpin the protection and special status of journalists under the law are based on the fact that journalists act in the service of the public by holding politicians and others in high public office to account it stands to reason that if somebody is paid to work for politicians on the payroll of a political party then he is in the service of the politicians he is meant to scrutinise and not in the service of the publicthe people hounding jason azzopardi and hanging around his office door are not journalists but labour party employees and the sooner we get this straight the better they dont even make any attempt at pretending that what they are doing is journalism and they are not after the truth or the facts but are there as agents of the governing party to harass politicians of the rival opposition party that is not an exercise in democracy and freedom of expression but the precise oppositewhich brings me to another related point the labour party is in government it is in power it should understand that the tactics it used when in opposition look really very ugly now it is one thing sending your party employees and party cameras to harass government politicians when you are in opposition but the governing party sending its party employees and cameras to harass opposition politicians and critics of the government thats absolutely terrible  and it is being read as terrible if not in malta then certainly outside malta those are totalitarian tactics and in the civilised world they are viewed with disgust and dismaymeanwhile i have a message for all those intellectually challenged members of the maltese chattering class  and god knows its pretty big  who are oohing and aahing because poor mario demarco has been attacked by a blogpost on this website are you all out of your tiny minds havent you bloody noticed that the nationalist politician who really is under attack is jason azzopardi by the governing party and its entire mammoth party media machine how about focussing your idiotic minds for a change  as though the mess you made in 2013 wasnt bad enough  and work out what is going on who really needs your support and who is really doing some actual attacking  there has been a strange show of alliance between the labour partygovernment and one of the nationalist partys deputy leaders mario demarco over the last few days we were even subjected to the unsavoury spectacle of keith schembri the prime ministers corrupt chief of staff posting a message of support on demarcos facebook page and demarco returning the compliment in an interview he gave to the times of maltawhy doesnt anybody see anything peculiar in the way the labour party never touches mario demarco that quite to the contrary it actually goes out of its way to support him from the way they talk youd think he was a labour politician one of theirspeoples minds just dont work on this island they dont join the dots they never see whats staring them in the face even if it has pink bells on but then they believe conspiracy theories and the more outlandish the bettermario demarco and keith schembri the prime ministers corrupt chief of staff have adrian hillman the corrupt former managing direct of allied newspapers ltd in common  though not for the same reasons if you want to read up on the backstory to adrian hillmans corruption with keith schembri or maybe youve forgotten already just enter his name into the search box at the top of this pagemario demarco and adrian hillman have been best friends all their lives and it was mario demarcos father who installed hillman at allied newspapers and had him anointed as the single replacement for both progress presss wilfred asciak and allied newspapers ronnie agius when they retireddemarco had no knowledge of hillmans corruption and the exact nature of his friendship with the labour partys keith schembri though there is no way he couldnt have known that there was a close relationship did he never wonder about itdemarco has since broken off all contact with hillman because of the massive betrayal of trust but the fact remains that keith schembri was never going to direct the labour party to launch any kind of onslaught on demarco as long as he was best friends with his corrupt associate hillman he is still protecting demarco now as we can see from the comment he left on his facebook page and this only makes me wonder who knows what about whom among those three peoplewe still dont know exactly what is going on beneath the surface there and nobody  not the nationalist party not the times of malta and certainly not the labour party  seems to have any interest in reminding people that the prime ministers chief of staff was involved in corrupt dealings with the managing director of maltas most influential newspaper and printing press during the years 2011 to 2015 which covered an extremely turbulent period in politics and also the 2013 general election campaign the nationalist partys deputy leader has no interest in reminding people about this massive scandal because one of the people involved was his best friend a very painful situation for him at a personal level and the labour party wants people to forget because it involves the prime ministers corrupt chief of staff and for obvious reasons its a story the times of malta is not going to keep alive malta today for reasons that remain unclear never touches keith schembri and didnt even go after him when his web of secret companies was revealed this is how situations turn foul in malta with a great conspiracy of silence about the most dangerous people while those who shouldnt be persecuted by the press and politicians are  the national commission for the disabled has reported labour mp luciano busuttil and his wife dorothy to the police for abusive possession of a blue badge which entitles the holder to park in spaces reserved for the disabled the police have been requested to seize the badge and to investigate the mattermrs busuttil has used the disabled parking badge for four years having acquired it through unclear means in 2013 supposedly after a car accident she has no signs of any disability at all still less the severely impaired mobility which is the primary requirement for entitlement to use a disabled parking bay mrs busuttil can walk normally and is never seen without a pair of high heels which she wears even to the office when out with her children and for daily errandsthe story began here  and then escalated with this post which was shared 5690 times on facebookread the newspaper reports belownewsbookthe malta independentmalta todaytimes of malta  when the story broke this evening that the national commission for the disabled had immediately launched an inquiry after this report and this telephone conversation  labour mp luciano busuttil who is also  cynically not ironically  chairman of the national sports council released a statement saying that he never held a disabledparking badge or used his wifesthat was not however the national commission for the disableds reason for asking the police to seize it nor was it the main item in my reports on this website it was something else entirely that mrs busuttil herself is not entitled to use parking space reserved for the disabled because she does not have impaired mobility in other words because she can walk and also spends her entire day in very high heelsbut when he says that he never used his wifes abusively acquired disabledparking badge he is lying the photograph below shows luciano busuttils car  his car not his wifes  parking squarely in the disabledparking bay outside arkadia in victoria the photograph was taken at around noon on 30 december and the senior school official who took it said that luciano busuttil was driving and that none of his passengers who included his wife were even remotely unable to walk  so much so that everyone was taken aback who saw them park there and walk out brazenly  adrian hillman the corrupt former managing director of allied newspapers ltd the company which publishes the times of malta and the sunday times was seen together with ramona frendo a lawyer who was a postergirl for labours 2013 general election campaign in a valletta café today they were in intense conversationa year ago this website revealed that hillman was involved in corrupt secret business dealings with keith schembri the prime ministers chief of staff who was also the single biggest supplier to allied newspapers and its associate company progress pressthe two had set up linked secret companies in the british virgin islands and cyprus their shareholding obscured by nominees through which transactions of many hundreds of thousands of euros were made  typos that slip past us are problems we all have to contend with when were working in print but this is something else again  readers how did it come to this   joe baldacchino who is a person of trust in the ministry of home affairs minister  carmelo abela uploaded this post on facebook a couple of days ago thinking it was a private message to ludgard scicluna another person of trust in the same ministry instead it was on full public view for a few minutes and a quickacting individual grabbed a screenshot which has since been the subject of much discussion these two persons of trust are hatching a plot between them to create a fake vacancy in the same ministry for another person of trust tricking the permanent secretary who is putting spokes into their wheels into believing it is necessary the vacancy will be advertised and people will be interviewed but the job has been created for jeffery the son of one of them the minister knows everything the one tells the other but that permanent secretary is really being a bitch isnt it fantastic so now we have a cabinet minister plotting with his partyapparatchik persons of trust who he has put on the state payroll to outwit his permanent secretarythis country is being run by corrupt trash the message is in translation belowludgard i hope that you are well twanny informs me that you are unwell i am convinced that you will soon be healthy again and that you will continue with your workid like to bring you up to date about your son jeffery today i planted in the perm secs head the idea that we need somebody with experience in logistics jeffery is very knowledgeable in this field and as soon as i have permission to advertise the vacancy be sure that the job will be reserved for jefferythe minister is informed about everything that is everything were doing is done with his blessing  but the perm secs bureaucracy is endless we will do our duty my friend and carry on convincing people until the end tomorrow i have another meeting with the perm sec and i will continue to struggle against him to get this job created for jefferytake heart friend because the minister needs all the help he can possibly getbest regardsjosephevery day on the radio we are bombarded with messages reminding us that using our phones while driving can cause us to kill or maim somebody fines for those caught driving while holding their phone have increasedbut yesterday morning a magistrate  who is expected to sit in judgement over others who cause accidents while using their phones and driving at the same time  was herself seen doing just thata friend who was driving towards rabat from qormi just before 10am yesterday was almost hit by a convertible sports car that sped out of a side road near the zebbug roundabout magistrate consuelo scerri herrera was at the wheeli had the right of way because i was on the main road and approaching the roundabout my friend said but she just sped out of the sideroad without looking she had her mobile phone in her right hand up against her ear and was obviously distracted she made no sign of apology and instead honked irritably at me when she saw that i wasnt going to get out of her way she gave me a vicious look she didnt look bothered or embarrassed at all that she had been recognised as a magistrate breaking the law by driving and using her phone  look at the way the british prime minister is dressed dorothys red shoes were apparently not enough to take her down the yellow brick road and the us president has lowered the hand that he would usually direct at a mans back to the prime ministers bottom  dear daphnethis morning i travelled in business class to munich on an air malta flight code shared with lufthansa  i was handed three newspapers the sunday times of malta malta today and to my surprise the general workers unions sunday newspaper ittorca i wonder if it is air maltas normal practice to give passengers ittorca or whether this was because the tourism minister was on board travelling in business class tooyours\n",
      "updated with response from state general hospital ceo below  ana gomes the socialist mep who is vicechair of the european parliaments pana committee has ripped into maltas financial services system saying it is tailormade for criminals and moneylaunderinga particular problem she said is the nominee system of company incorporation which allows russian doll structures which hide the ultimate beneficial owner of the company russian doll companies are those in which a companys shares are held by other companies with all shares in the last traceable company being held by nominees to conceal the real ownershipunder maltese company law the ultimate beneficial owner of any company incorporated in malta must be known to the malta financial services authority even if it is hidden from public knowledge by the use of nominees this does not apply however to companies incorporated in secretive jurisdictions like the british virgin islands or panama this means that a company incorporated in malta under maltese law can still have its ultimate beneficial ownership hidden if the last stop shareholder is a company incorporated in one of those secretive jurisdictions using nomineesone very notorious example of this is vitals global healthcare ltd a startup company incorporated in malta to which the government has signed over several of maltas public hospitals its ultimate beneficial owner is concealed by a company registered in the british virgin islands bluestone situation 4 whose shareholding ownership is concealed by nomineesin other words the maltese public civil service hospital authorities hospital employees patients and even the members of the cabinet of government themselves beyond konrad mizzi and the prime minister do not know who owns the company which is running several of maltas public hospitals this is a shocking situationgovernmentsponsored trolls and brightandbeautiful supporters of the labour party will now be out in force on the internet to counter mrs gomess accusations with some carefully crafted arguments of their own kemm hi kera maaaa dik anda bzon xi zop ta iswed hi dik ax tejr al michelle  disabled drivers registered with the national commission for the disabled who hold a blue badge entitling them to special parking privileges may also benefit under the law from a full or partial exemption from paying registration tax when they buy a new car and also from a free road licenceread here  and hereif dorothy busuttil fitzpatrick who is married to labour mp and malta sports council chairman luciano busuttil bought her alfa romeo car in the last four years  she was registered as a disabled driver in 2013 despite never being seen without a pair of high heels on  she may have been exempted from all or part of the registration tax on it and may also have benefited from a waiver on full road licence fees for the last four yearsthis is the story background you need  if youre not up to speedi have tried to ring luciano busuttil to ask him whether his disabled wife has benefitted from the government scheme and paid no registration tax when buying her car and whether she has been exempted from road licence fees in the last four years but he let the phone ring and didnt even bother hitting the callreject button this time meanwhile i have sent him the following message and will let you know if and when i receive a replyfurther to the blue badge reports did your wife benefit from full or part exemption on car registration tax andor free road licence\n"
     ]
    },
    {
     "name": "stderr",
     "output_type": "stream",
     "text": [
      "[nltk_data] Downloading package punkt to\n",
      "[nltk_data]     /Users/marlontabone/nltk_data...\n",
      "[nltk_data]   Package punkt is already up-to-date!\n"
     ]
    },
    {
     "data": {
      "text/plain": [
       "True"
      ]
     },
     "execution_count": 31,
     "metadata": {},
     "output_type": "execute_result"
    }
   ],
   "source": [
    "# loading .txt file \n",
    "path = 'datasets/1.txt'\n",
    "text = open(path).read().lower() # reading text\n",
    "print('Corpus length:', len(text)) #printing length of text\n",
    "print(text)\n",
    "nltk.download('punkt')"
   ]
  },
  {
   "cell_type": "markdown",
   "metadata": {},
   "source": [
    "A function to clean our loaded dataset and make it free from punctation. The idea is to reduce the noise so that our model can focus on the actual words. "
   ]
  },
  {
   "cell_type": "code",
   "execution_count": 32,
   "metadata": {},
   "outputs": [
    {
     "name": "stdout",
     "output_type": "stream",
     "text": [
      "['and', 'he', 'gets', 'a', 'good', 'answer', 'too', 'also', 'shouldnt', 'the', 'education', 'minister', 'a', 'university', 'lecturer', 'be', 'quoting', 'from', 'source', 'rather', 'than', 'just', 'googling', 'facebookfriendly', 'quotes', 'but', 'hell', 'be', 'hard', 'pushed', 'to', 'find', 'a', 'source', 'for', 'that', 'one', 'the', 'clue', 'is', 'in', 'the', 'use', 'of', 'revenge', 'as', 'a', 'verb', 'one', 'takes', 'revenge', 'one', 'does', 'not', 'revenge', 'but', 'im', 'sure', 'the', 'man', 'who', 'pretends', 'to', 'love', 'english', 'so', 'as', 'to', 'pick', 'up', 'the', 'votes', 'of', 'undiscriminating', 'pepe', 'types', 'knows', 'that', 'alreadysuch', 'rubbish', 'even', 'in', 'the', 'education', 'ministry', 'stephen', 'bonellos', 'cartoon', 'in', 'the', 'sunday', 'times', 'today', 'i', 'love', 'it', 'britains', 'supreme', 'court', 'has', 'ruled', 'today', 'that', 'the', 'referendum', 'result', 'on', 'britains', 'exit', 'from', 'the', 'european', 'union', 'does', 'not', 'give', 'the', 'government', 'a', 'mandate', 'and', 'that', 'the', 'matter', 'must', 'be', 'decided', 'by', 'parliamentthis', 'is', 'a', 'timely', 'reminder', 'that', 'in', 'representative', 'democracies', 'there', 'can', 'be', 'no', 'government', 'by', 'mob', 'rule', 'and', 'a', 'referendum', 'is', 'essentially', 'not', 'an', 'exercise', 'in', 'democracy', 'but', 'in', 'mob', 'rulethe', 'referendum', 'is', 'of', 'great', 'political', 'significance', 'but', 'the', 'act', 'of', 'parliament', 'which', 'established', 'it', 'did', 'not', 'say', 'what', 'should', 'happen', 'as', 'a', 'result', 'so', 'any', 'change', 'in', 'the', 'law', 'to', 'give', 'effect', 'to', 'the', 'referendum', 'must', 'be', 'made', 'in', 'the', 'only', 'way', 'permitted', 'by', 'the', 'uk', 'constitution', 'namely', 'by', 'an', 'act', 'of', 'parliament', 'david', 'neuberger', 'the', 'president', 'of', 'the', 'supreme', 'court', 'said', 'when', 'reading', 'the', 'judgement', 'to', 'proceed', 'otherwise', 'would', 'be', 'a', 'breach', 'of', 'settled', 'constitutional', 'principles', 'stretching', 'back', 'many', 'centuriesit', 'is', 'also', 'a', 'reminder', 'to', 'us', 'in', 'malta', 'too', 'as', 'our', 'system', 'is', 'the', 'same', 'that', 'the', 'supremacy', 'of', 'parliament', 'is', 'greater', 'than', 'that', 'of', 'the', 'government', 'and', 'that', 'the', 'government', 'is', 'only', 'the', 'government', 'because', 'it', 'commands', 'the', 'greater', 'number', 'of', 'seats', 'in', 'parliament', 'it', 'can', 'not', 'act', 'without', 'parliamentthis', 'is', 'also', 'testament', 'to', 'the', 'power', 'of', 'a', 'single', 'individual', 'in', 'a', 'true', 'democracy', 'with', 'functional', 'institutions', 'to', 'challenge', 'the', 'government', 'with', 'recourse', 'to', 'the', 'constitution', 'the', 'case', 'was', 'set', 'in', 'motion', 'by', 'gina', 'miller', 'an', 'investment', 'adviser', 'who', 'challenged', 'the', 'governments', 'decision', 'to', 'take', 'britain', 'out', 'of', 'the', 'european', 'union', 'without', 'a', 'parliamentary', 'vote', 'of', 'consentshe', 'won', 'the', 'case', 'in', 'the', 'court', 'of', 'first', 'instance', 'the', 'government', 'appealed', 'and', 'lost', 'disgraced', 'former', 'european', 'commissioner', 'john', 'dalli', 'a', 'consultant', 'to', 'prime', 'minister', 'muscat', 'has', 'made', 'a', 'formal', 'request', 'to', 'the', 'police', 'to', 'prosecute', 'me', 'for', 'harassing', 'himi', 'will', 'keep', 'you', 'updated', 'on', 'this', 'matter', 'meanwhile', 'i', 'am', 'seeking', 'advice', 'on', 'aspects', 'related', 'to', 'constitutional', 'law', 'and', 'human', 'rights', 'in', 'readiness', 'to', 'challenge', 'this', 'abuse', 'of', 'power', 'and', 'violation', 'of', 'my', 'rights', 'to', 'freedom', 'of', 'expression', 'as', 'an', 'ordinary', 'citizen', 'and', 'above', 'all', 'as', 'a', 'journalist', 'with', 'the', 'duty', 'to', 'hold', 'people', 'like', 'him', 'to', 'accountthe', 'police', 'apparently', 'wish', 'to', 'interrogate', 'me', 'about', 'my', 'attempts', 'at', 'harassing', 'the', 'prime', 'ministers', 'consultant', 'they', 'had', 'better', 'prepare', 'a', 'warrant', 'for', 'my', 'arrest', 'which', 'is', 'going', 'to', 'look', 'spectacularly', 'good', 'and', 'even', 'better', 'while', 'malta', 'holds', 'the', 'presidency', 'of', 'the', 'european', 'council', 'because', 'i', 'am', 'not', 'going', 'to', 'comply', 'on', 'principlethe', 'police', 'believe', 'that', 'they', 'have', 'got', 'to', 'comply', 'when', 'they', 'receive', 'a', 'formal', 'request', 'for', 'prosecution', 'kwerela', 'and', 'then', 'it', 'is', 'up', 'to', 'the', 'courts', 'to', 'decide', 'but', 'they', 'are', 'wrong', 'the', 'process', 'of', 'interrogation', 'prosecution', 'criminal', 'charges', 'interminable', 'court', 'appearances', 'and', 'legal', 'costs', 'is', 'in', 'itself', 'a', 'form', 'of', 'harassment', 'most', 'especially', 'when', 'used', 'by', 'politicians', 'and', 'others', 'in', 'power', 'against', 'the', 'journalists', 'who', 'draw', 'public', 'attention', 'to', 'their', 'wrongdoing', 'abuse', 'and', 'multiple', 'failingsit', 'has', 'what', 'the', 'european', 'court', 'of', 'human', 'rights', 'calls', 'a', 'chilling', 'effect', 'on', 'journalists', 'and', 'is', 'fundamentally', 'abusive', 'in', 'itselfif', 'john', 'dalli', 'thinks', 'i', 'have', 'lied', 'about', 'him', 'or', 'distorted', 'the', 'facts', 'in', 'his', 'regard', 'then', 'he', 'has', 'recourse', 'to', 'the', 'law', 'under', 'the', 'press', 'act', 'for', 'libel', 'he', 'can', 'file', 'a', 'civil', 'suit', 'as', 'normal', 'people', 'dobut', 'instructing', 'the', 'police', 'to', 'harass', 'and', 'prosecute', 'a', 'journalist', 'for', 'writing', 'about', 'him', 'is', 'something', 'straight', 'out', 'of', 'the', 'states', 'with', 'which', 'dalli', 'and', 'his', 'client', 'joseph', 'muscat', 'are', 'most', 'comfortable', 'i', 'listened', 'to', 'david', 'thakes', 'show', 'on', 'radio', 'yesterday', 'he', 'tried', 'to', 'ring', 'labour', 'mp', 'luciano', 'busuttil', 'repeatedly', 'about', 'this', 'matter', 'each', 'time', 'busuttil', 'hit', 'the', 'callreject', 'buttonthake', 'has', 'just', 'opened', 'his', 'show', 'today', 'with', 'another', 'attempt', 'at', 'ringing', 'him', 'and', 'again', 'busuttil', 'hit', 'the', 'callreject', 'button', 'because', 'theres', 'not', 'much', 'he', 'can', 'say', 'is', 'there', 'his', 'wife', 'isnt', 'even', 'remotely', 'disabled', 'and', 'yet', 'she', 'has', 'used', 'a', 'disabledparking', 'badge', 'on', 'her', 'car', 'for', 'four', 'years', 'and', 'busuttil', 'himself', 'transfers', 'it', 'to', 'his', 'car', 'for', 'family', 'outings', 'so', 'that', 'no', 'member', 'of', 'the', 'busuttil', 'entourage', 'has', 'to', 'walk', 'anywhere', 'dorothy', 'busuttil', 'arrives', 'at', 'her', 'destination', 'armed', 'with', 'a', 'disabledparking', 'badge', 'slips', 'into', 'a', 'disabledparking', 'spot', 'and', 'gets', 'out', 'to', 'race', 'around', 'in', 'shoes', 'with', 'skyscraper', 'heels', 'the', 'sort', 'which', 'have', 'you', 'standing', 'effectively', 'on', 'tiptoe', 'with', 'your', 'toes', 'trapped', 'in', 'a', 'vicetrid', 'tkun', 'ilvera', 'bogan', 'is', 'there', 'any', 'opportunity', 'provided', 'by', 'their', 'being', 'in', 'power', 'that', 'they', 'wont', 'exploit', 'having', 'created', 'it', 'for', 'their', 'very', 'purpose', 'in', 'the', 'first', 'placeand', 'we', 'keep', 'forgetting', 'that', 'its', 'not', 'really', 'a', 'triad', 'because', 'theres', 'a', 'fourth', 'person', 'very', 'tightly', 'involved', 'with', 'joseph', 'muscat', 'keith', 'schembri', 'and', 'konrad', 'mizzi', 'phyllis', 'muscatso', 'joseph', 'muscat', 'konrad', 'mizzi', 'and', 'keith', 'schembri', 'sign', 'over', 'several', 'of', 'maltas', 'public', 'hospitals', 'to', 'a', 'shady', 'front', 'man', 'called', 'ram', 'tumuluri', 'saying', 'that', 'it', 'will', 'help', 'with', 'medical', 'tourism', 'and', 'then', 'inevitably', 'we', 'discover', 'that', 'phyllis', 'muscat', 'has', 'set', 'up', 'an', 'office', 'to', 'handle', 'medical', 'tourism', 'to', 'malta', 'with', 'another', 'taghna', 'lkoller', 'called', 'claire', 'cassar', 'neither', 'of', 'them', 'has', 'any', 'experience', 'at', 'all', 'in', 'the', 'sector', 'but', 'amazingly', 'temos', 'has', 'found', 'them', 'to', 'be', 'ideal', 'for', 'the', 'same', 'purposes', 'an', 'international', 'company', 'would', 'find', 'somebody', 'to', 'be', 'ideal', 'in', 'a', 'corrupt', 'dictatorshipthats', 'how', 'bad', 'things', 'have', 'become', 'here', 'those', 'avaricious', 'individuals', 'are', 'not', 'just', 'sucking', 'the', 'trough', 'dry', 'but', 'also', 'creating', 'more', 'and', 'more', 'troughs', 'in', 'which', 'to', 'wallowread', 'more', 'here', 'isnt', 'it', 'obvious', 'its', 'going', 'to', 'be', 'in', 'march', 'next', 'year', 'thats', 'when', 'the', 'five', 'years', 'are', 'up', 'nobody', 'with', 'even', 'the', 'most', 'basic', 'insight', 'into', 'how', 'those', 'minds', 'work', 'would', 'have', 'imagined', 'it', 'would', 'be', 'any', 'earlier', 'than', 'that', 'later', 'if', 'anything', 'to', 'give', 'them', 'more', 'time', 'to', 'cover', 'their', 'tracks', 'delete', 'evidence', 'make', 'themselves', 'safe', 'from', 'investigation', 'and', 'prosecution', 'fit', 'in', 'a', 'little', 'more', 'haymaking', 'and', 'fight', 'hard', 'to', 'avoid', 'a', 'situation', 'in', 'which', 'they', 'have', 'to', 'face', 'the', 'police', 'a', 'lot', 'sooner', 'than', 'they', 'thinkmela', 'ħasibna', 'ċwieċ', 'has', 'it', 'gone', 'to', 'their', 'heads', 'or', 'what', 'it', 'looks', 'like', 'all', 'these', 'labour', 'bastards', 'began', 'cheating', 'on', 'their', 'wives', 'and', 'the', 'mothers', 'of', 'their', 'children', 'as', 'soon', 'as', 'they', 'got', 'into', 'power', 'its', 'just', 'one', 'after', 'the', 'other', 'and', 'then', 'not', 'content', 'with', 'that', 'they', 'bring', 'their', 'girlfriends', 'on', 'board', 'the', 'gravytrain', 'tooalfred', 'mifsud', 'is', 'the', 'deputy', 'governor', 'of', 'the', 'central', 'bank', 'of', 'malta', 'for', 'heavens', 'sake', 'a', 'sex', 'cheat', 'sending', 'messages', 'to', 'his', 'secret', 'girlfriend', 'while', 'the', 'mother', 'of', 'his', 'children', 'is', 'sitting', 'opposite', 'him', 'at', 'a', 'restaurant', 'table', 'then', 'filing', 'a', 'court', 'case', 'to', 'have', 'her', 'and', 'their', 'children', 'evicted', 'from', 'their', 'home', 'on', 'the', 'grounds', 'that', 'he', 'owns', 'it', 'and', 'it', 'is', 'registered', 'in', 'his', 'name', 'what', 'sort', 'of', 'person', 'does', 'that', 'to', 'his', 'children', 'cheat', 'on', 'their', 'mother', 'and', 'then', 'go', 'to', 'court', 'to', 'force', 'them', 'out', 'of', 'their', 'home', 'so', 'that', 'his', 'girlfriend', 'can', 'use', 'it', 'instead', 'i', 'mean', 'reallyits', 'not', 'as', 'though', 'we', 'should', 'expect', 'everybody', 'in', 'public', 'life', 'to', 'be', 'some', 'kind', 'of', 'pillar', 'of', 'moral', 'rectitude', 'but', 'there', 'are', 'limits', 'and', 'this', 'is', 'the', 'deputy', 'governor', 'of', 'the', 'central', 'bank', 'somebody', 'who', 'should', 'command', 'respect', 'the', 'only', 'reason', 'that', 'he', 'isnt', 'actually', 'governor', 'of', 'the', 'central', 'bank', 'is', 'that', 'i', 'reported', 'this', 'story', 'detailed', 'in', 'court', 'this', 'morning', 'just', 'in', 'time', 'to', 'stop', 'this', 'cheating', 'shambles', 'being', 'put', 'in', 'charge', 'of', 'maltas', 'most', 'important', 'financial', 'institutionmen', 'who', 'cheat', 'on', 'the', 'mother', 'of', 'their', 'children', 'will', 'cheat', 'on', 'anything', 'as', 'in', 'fact', 'happened', 'malta', 'was', '37th', 'on', 'transparency', 'internationals', 'corruption', 'perceptions', 'index', 'in', 'in', 'it', 'sank', 'to', '47th', 'place', 'and', 'now', 'ranks', 'below', 'the', 'bahamasit', 'was', 'the', 'year', 'when', 'the', 'world', 'discovered', 'that', 'maltas', 'energy', 'minister', 'konrad', 'mizzi', 'and', 'the', 'prime', 'ministers', 'chief', 'of', 'staff', 'keith', 'schembri', 'had', 'begun', 'the', 'process', 'to', 'set', 'up', 'covert', 'companies', 'in', 'panama', 'sheltered', 'by', 'secret', 'trusts', 'in', 'new', 'zealand', 'just', 'days', 'after', 'coming', 'to', 'power', 'in', 'march', 'and', 'that', 'the', 'prime', 'minister', 'isnt', 'able', 'or', 'willing', 'to', 'do', 'anything', 'about', 'it', 'because', 'a', 'third', 'panama', 'company', 'associated', 'with', 'theirs', 'is', 'almost', 'certainly', 'hisit', 'was', 'the', 'year', 'when', 'people', 'watched', 'as', 'the', 'commissioner', 'of', 'police', 'resigned', 'rather', 'than', 'do', 'anything', 'about', 'the', 'chief', 'of', 'the', 'financial', 'intelligence', 'analysis', 'unit', 'left', 'his', 'post', 'in', 'despair', 'labour', 'party', 'functionaries', 'and', 'failed', 'politicians', 'were', 'made', 'magistrates', 'and', 'judges', 'state', 'councils', 'institutions', 'government', 'departments', 'commissions', 'and', 'committees', 'were', 'ethnically', 'cleansed', 'even', 'further', 'to', 'give', 'the', 'government', 'absolute', 'control', 'and', 'the', 'ability', 'to', 'instil', 'fear', 'in', 'others', 'through', 'the', 'threat', 'of', 'retaliatory', 'measures', 'and', 'vengeancehospitals', 'the', 'power', 'station', 'skyscrapers', 'public', 'transport', 'public', 'appointments', 'the', 'jordanian', 'university', 'of', 'bribes', 'and', 'baksheesh', 'represented', 'in', 'malta', 'by', 'the', 'labour', 'partys', 'longtime', 'auditor', 'nothing', 'has', 'been', 'left', 'untainted', 'by', 'corruption', 'and', 'scandalthis', 'is', 'the', 'supposedly', 'liberal', 'and', 'progressive', 'most', 'transparent', 'government', 'ever', 'in', 'the', 'history', 'of', 'malta', 'and', 'then', 'the', 'corrupt', 'idiots', 'actually', 'imagine', 'that', 'lloyds', 'is', 'going', 'to', 'set', 'up', 'its', 'new', 'headquarters', 'in', 'this', 'filthy', 'place', 'with', 'such', 'a', 'bad', 'reputation', 'post', 'brexit', 'they', 'got', 'put', 'in', 'their', 'place', 'pretty', 'rapidly', 'on', 'that', 'one', 'read', 'this', 'story', 'in', 'the', 'times', 'of', 'malta', 'this', 'morning', 'over', 'the', 'last', 'few', 'weeks', 'this', 'website', 'has', 'featured', 'photographs', 'of', 'the', 'kind', 'of', 'planes', 'air', 'malta', 'has', 'been', 'wetleasing', 'and', 'the', 'complaints', 'of', 'passengers', 'who', 'booked', 'a', 'flight', 'with', 'air', 'malta', 'and', 'ended', 'up', 'on', 'a', 'converted', 'cargo', 'plane', 'or', 'a', 'tacky', 'ellinair', 'aircraft', 'with', 'nonfunctioning', 'lavatoriesthats', 'what', 'you', 'get', 'when', 'you', 'rope', 'in', 'the', 'manager', 'of', 'the', 'islands', 'cocacola', 'bottling', 'plant', 'to', 'run', 'the', 'national', 'airline', 'while', 'shes', 'still', 'running', 'the', 'cocacola', 'bottling', 'plant', 'maria', 'micallef', 'is', 'air', 'maltas', 'chairman', 'but', 'already', 'shes', 'seen', 'off', 'two', 'wellrespected', 'ceos', 'louis', 'giordmaina', 'formerly', 'of', 'lufthansa', 'technik', 'and', 'philip', 'micallef', 'formerly', 'of', 'the', 'malta', 'communications', 'authority', 'to', 'plant', 'herself', 'on', 'centrestage', 'and', 'serve', 'the', 'governments', 'specialised', 'interests', 'rather', 'than', 'those', 'of', 'the', 'airline', 'itself', 'and', 'no', 'doubt', 'her', 'own', 'interests', 'too', 'because', 'she', 'even', 'sought', 'and', 'gained', 'advantage', 'for', 'her', 'unemployable', 'boyfriendso', 'the', 'incoming', 'labour', 'government', 'removed', 'air', 'maltas', 'then', 'ceo', 'peter', 'davis', 'in', 'after', 'years', 'of', 'campaigning', 'against', 'him', 'while', 'they', 'were', 'in', 'opposition', 'saying', 'he', 'was', 'paid', 'too', 'much', 'and', 'that', 'a', 'maltese', 'person', 'could', 'do', 'it', 'because', 'you', 'know', 'how', 'it', 'is', 'malta', 'is', 'teeming', 'with', 'aviation', 'industry', 'crisis', 'management', 'specialists', 'and', 'they', 'installed', 'the', 'manager', 'of', 'a', 'soft', 'drinks', 'bottling', 'plant', 'instead', 'and', 'are', 'now', 'probably', 'wondering', 'why', 'the', 'crisis', 'downwardspiralled', 'into', 'a', 'catastrophethe', 'trouble', 'with', 'the', 'labour', 'party', 'is', 'that', 'they', 'think', 'anybody', 'can', 'do', 'any', 'job', 'with', 'no', 'special', 'skills', 'required', 'look', 'at', 'them', 'look', 'at', 'every', 'decision', 'theyve', 'taken', 'its', 'all', 'been', 'based', 'on', 'that', 'assumption', 'they', 'give', 'a', 'power', 'station', 'contract', 'to', 'maltese', 'tinpot', 'businessmen', 'who', 'run', 'car', 'dealerships', 'and', 'hotels', 'and', 'build', 'flats', 'they', 'sign', 'over', 'maltas', 'public', 'hospital', 'to', 'a', 'canadianindian', 'fraudster', 'who', 'couldnt', 'even', 'run', 'a', 'guesthouse', 'without', 'bankrupting', 'it', 'they', 'install', 'people', 'in', 'public', 'positions', 'who', 'have', 'neither', 'the', 'skills', 'nor', 'the', 'track', 'record', 'to', 'qualify', 'them', 'for', 'the', 'job', 'its', 'just', 'horrendous', 'i', 'have', 'read', 'this', 'report', 'in', 'the', 'times', 'of', 'malta', 'and', 'watched', 'the', 'embedded', 'video', 'interview', 'with', 'mario', 'demarco', 'deputy', 'leader', 'of', 'the', 'nationalist', 'party', 'i', 'will', 'try', 'to', 'be', 'as', 'tactful', 'as', 'possiblethe', 'trouble', 'with', 'this', 'country', 'is', 'that', 'people', 'dont', 'understand', 'the', 'meaning', 'of', 'the', 'word', 'choices', 'which', 'cohabits', 'with', 'that', 'other', 'alien', 'word', 'decisions', 'maltese', 'people', 'want', 'to', 'wear', 'lots', 'of', 'hats', 'simultaneously', 'and', 'think', 'they', 'have', 'a', 'divine', 'right', 'not', 'to', 'be', 'criticised', 'if', 'they', 'cant', 'cope', 'with', 'all', 'of', 'them', 'and', 'other', 'maltese', 'people', 'who', 'think', 'this', 'state', 'of', 'affairs', 'is', 'entirely', 'normal', 'speak', 'and', 'behave', 'as', 'though', 'the', 'job', 'or', 'post', 'should', 'accommodate', 'the', 'person', 'when', 'everywhere', 'else', 'in', 'the', 'civilised', 'normal', 'world', 'its', 'the', 'other', 'way', 'round', 'the', 'inability', 'to', 'cope', 'due', 'to', 'illness', 'is', 'not', 'a', 'justified', 'excuse', 'to', 'fend', 'off', 'those', 'who', 'point', 'out', 'that', 'you', 'are', 'failing', 'to', 'deliver', 'you', 'cant', 'cry', 'oh', 'but', 'im', 'too', 'ill', 'to', 'cope', 'illness', 'is', 'a', 'reason', 'for', 'resignation', 'if', 'you', 'are', 'in', 'a', 'ceo', 'or', 'deputy', 'ceo', 'position', 'because', 'the', 'nature', 'of', 'that', 'position', 'means', 'that', 'you', 'can', 'not', 'be', 'temporarily', 'replaced', 'or', 'filled', 'in', 'for', 'and', 'that', 'the', 'functioning', 'of', 'the', 'organisation', 'depends', 'on', 'your', 'pulling', 'your', 'full', 'weight', 'those', 'who', 'care', 'about', 'their', 'duties', 'more', 'than', 'they', 'care', 'about', 'themselves', 'dont', 'stay', 'in', 'situ', 'while', 'the', 'job', 'fails', 'to', 'get', 'done', 'and', 'then', 'get', 'angry', 'and', 'hurt', 'when', 'they', 'are', 'reminded', 'that', 'they', 'are', 'there', 'to', 'do', 'a', 'job', 'and', 'that', 'the', 'job', 'has', 'got', 'to', 'be', 'doneas', 'i', 'said', 'to', 'mario', 'demarco', 'myself', 'when', 'he', 'rang', 'me', 'the', 'day', 'i', 'wrote', 'what', 'i', 'did', 'we', 'spoke', 'for', 'a', 'long', 'time', 'and', 'much', 'of', 'it', 'was', 'personal', 'confidential', 'and', 'cant', 'be', 'reported', 'when', 'his', 'medical', 'problems', 'are', 'of', 'that', 'nature', 'what', 'he', 'needs', 'most', 'of', 'all', 'is', 'peace', 'of', 'mind', 'and', 'as', 'little', 'stress', 'as', 'possible', 'i', 'cant', 'understand', 'why', 'youre', 'not', 'prioritising', 'i', 'said', 'to', 'him', 'there', 'are', 'no', 'supermen', 'in', 'this', 'world', 'in', 'your', 'position', 'i', 'would', 'have', 'stepped', 'down', 'i', 'cant', 'imagine', 'having', 'to', 'cope', 'with', 'such', 'a', 'serious', 'medical', 'problem', 'while', 'stressing', 'out', 'about', 'all', 'the', 'other', 'stuff', 'what', 'on', 'earth', 'forit', 'is', 'plainly', 'obvious', 'to', 'any', 'sensible', 'person', 'that', 'demarco', 'has', 'got', 'to', 'make', 'a', 'choice', 'it', 'is', 'too', 'late', 'now', 'to', 'make', 'the', 'choice', 'to', 'leave', 'the', 'deputy', 'leadership', 'the', 'general', 'election', 'is', 'just', 'a', 'year', 'away', 'and', 'that', 'choice', 'should', 'have', 'been', 'made', 'as', 'soon', 'as', 'he', 'was', 'diagnosed', 'so', 'the', 'choice', 'he', 'has', 'to', 'make', 'now', 'is', 'to', 'throw', 'his', 'entire', 'weight', 'behind', 'the', 'campaign', 'to', 'get', 'rid', 'of', 'the', 'corrupt', 'government', 'lying', 'low', 'and', 'crying', 'illness', 'is', 'simply', 'not', 'an', 'option', 'besides', 'which', 'the', 'same', 'complaints', 'were', 'made', 'about', 'his', 'invisibility', 'back', 'in', 'the', 'electoral', 'campaign', 'of', 'and', 'he', 'wasnt', 'ill', 'or', 'undergoing', 'surgery', 'back', 'theni', 'am', 'not', 'one', 'to', 'say', 'things', 'behind', 'peoples', 'backs', 'rather', 'than', 'straight', 'to', 'their', 'faces', 'so', 'unlike', 'all', 'those', 'who', 'are', 'muttering', 'that', 'demarco', 'is', 'as', 'invisible', 'now', 'as', 'he', 'was', 'in', 'the', 'general', 'election', 'campaign', 'i', 'said', 'what', 'i', 'think', 'when', 'we', 'spoke', 'on', 'the', 'phone', 'i', 'said', 'to', 'him', 'that', 'it', 'is', 'not', 'possible', 'for', 'any', 'human', 'being', 'to', 'cope', 'with', 'a', 'demanding', 'professional', 'practice', 'a', 'seat', 'in', 'parliament', 'and', 'a', 'constituency', 'a', 'position', 'as', 'deputy', 'leader', 'of', 'a', 'political', 'party', 'which', 'has', 'to', 'fight', 'a', 'tough', 'electoral', 'battle', 'while', 'restructuring', 'the', 'party', 'itself', 'a', 'young', 'family', 'and', 'also', 'a', 'very', 'serious', 'illness', 'which', 'has', 'twice', 'required', 'major', 'surgery', 'and', 'which', 'has', 'had', 'permanent', 'debilitating', 'consequences', 'both', 'physical', 'and', 'psychological', 'it', 'is', 'impossible', 'to', 'do', 'all', 'that', 'so', 'something', 'has', 'to', 'go', 'mario', 'demarco', 'never', 'wanted', 'to', 'go', 'into', 'politics', 'he', 'absolutely', 'detests', 'the', 'limelight', 'and', 'is', 'a', 'very', 'private', 'person', 'that', 'is', 'the', 'real', 'reason', 'he', 'failed', 'to', 'speak', 'publicly', 'about', 'his', 'illness', 'and', 'not', 'because', 'he', 'wished', 'to', 'conceal', 'information', 'from', 'the', 'public', 'for', 'nefarious', 'ends', 'like', 'that', 'other', 'one', 'in', 'the', 'auberge', 'de', 'castille', 'but', 'this', 'is', 'the', 'classic', 'heatandkitchen', 'scenario', 'he', 'is', 'also', 'shy', 'selfconscious', 'and', 'extremely', 'reserved', 'these', 'are', 'good', 'qualities', 'in', 'a', 'man', 'but', 'they', 'are', 'not', 'good', 'qualities', 'for', 'fighting', 'dangerous', 'electoral', 'battlesdemarco', 'wanted', 'to', 'be', 'a', 'lawyer', 'working', 'in', 'new', 'york', 'he', 'said', 'as', 'much', 'once', 'in', 'an', 'interview', 'but', 'most', 'of', 'us', 'knew', 'that', 'anyway', 'he', 'went', 'into', 'politics', 'for', 'his', 'father', 'and', 'he', 'has', 'stayed', 'on', 'as', 'a', 'tribute', 'to', 'his', 'father', 'and', 'unfortunately', 'it', 'shows', 'as', 'he', 'himself', 'says', 'unlike', 'his', 'father', 'he', 'is', 'not', 'a', 'political', 'animal', 'at', 'all', 'and', 'as', 'it', 'happens', 'thats', 'exactly', 'why', 'i', 'like', 'him', 'and', 'think', 'he', 'has', 'made', 'enough', 'sacrifices', 'to', 'fulfil', 'the', 'wishes', 'of', 'others', 'now', 'its', 'time', 'to', 'do', 'what', 'he', 'really', 'wants', 'to', 'do', 'which', 'clearly', 'isnt', 'politics', 'instead', 'of', 'listening', 'to', 'the', 'aides', 'who', 'want', 'him', 'back', 'in', 'power', 'so', 'that', 'they', 'can', 'be', 'in', 'power', 'themselves', 'he', 'should', 'listen', 'to', 'his', 'own', 'heart', 'and', 'i', 'told', 'him', 'this', 'myselfmario', 'demarco', 'is', 'at', 'a', 'personal', 'crossroads', 'he', 'must', 'now', 'choose', 'between', 'putting', 'his', 'true', 'nature', 'aside', 'staying', 'on', 'as', 'deputy', 'leader', 'of', 'the', 'nationalist', 'party', 'and', 'fighting', 'hard', 'against', 'government', 'corruption', 'or', 'stepping', 'down', 'to', 'follow', 'his', 'own', 'heart', 'for', 'the', 'first', 'time', 'we', 'dont', 'get', 'to', 'live', 'our', 'lives', 'twice', 'over', 'robert', 'abela', 'is', 'a', 'nasty', 'piece', 'of', 'work', 'who', 'spent', 'five', 'years', 'freeloading', 'at', 'three', 'palaces', 'with', 'his', 'labour', 'party', 'executive', 'wife', 'lydia', 'when', 'his', 'father', 'was', 'head', 'of', 'state', 'but', 'who', 'then', 'had', 'no', 'problem', 'of', 'conscience', 'in', 'taking', 'to', 'a', 'mass', 'meeting', 'stage', 'to', 'verbally', 'knife', 'the', 'man', 'who', 'made', 'it', 'possible', 'prime', 'minister', 'gonzi', 'the', 'very', 'same', 'man', 'who', 'also', 'made', 'it', 'possible', 'for', 'his', 'law', 'firm', 'to', 'get', 'the', 'malta', 'planning', 'authority', 'legalcounsel', 'contract', 'for', 'years', 'and', 'years', 'and', 'years', 'disgustingnow', 'today', 'robert', 'abela', 'is', 'out', 'to', 'prove', 'that', 'as', 'well', 'as', 'being', 'a', 'freeloading', 'bum', 'who', 'grabs', 'what', 'he', 'can', 'no', 'matter', 'who', 'is', 'in', 'government', 'hes', 'also', 'good', 'at', 'playing', 'at', 'stupid', 'sitting', 'side', 'by', 'side', 'with', 'owen', 'bonnici', 'he', 'told', 'the', 'press', 'that', 'zaren', 'vassallo', 'of', 'vassallo', 'builders', 'lied', 'when', 'he', 'said', 'he', 'paid', '€8', 'million', 'to', 'marsovin', 'for', 'the', 'qormi', 'land', 'because', 'he', 'only', 'paid', '€900000', 'and', 'absorbed', '€71', 'million', 'of', 'their', 'brewery', 'debtswho', 'are', 'they', 'trying', 'to', 'kid', 'they', 'speak', 'to', 'even', 'intelligent', 'audiences', 'as', 'though', 'theyre', 'the', 'congregation', 'at', 'one', 'of', 'silvio', 'parniss', 'coffee', 'mornings', 'and', 'unfortunately', 'the', 'newspapers', 'dont', 'help', 'because', 'instead', 'of', 'putting', 'the', 'facts', 'into', 'context', 'they', 'run', 'with', 'the', 'headline', 'that', 'labour', 'wantsi', 'was', 'immediately', 'swamped', 'by', 'emails', 'from', 'people', 'who', 'read', 'the', 'story', 'and', 'were', 'shocked', 'at', 'what', 'robert', 'abela', 'had', 'said', 'how', 'can', 'he', 'be', 'so', 'stupid', 'was', 'the', 'general', 'tone', 'when', 'you', 'buy', 'a', 'company', 'and', 'agree', 'to', 'absorb', 'its', 'debts', 'the', 'debts', 'are', 'factored', 'into', 'the', 'price', 'you', 'pay', 'if', 'you', 'absorb', '€71', 'million', 'of', 'the', 'companys', 'debts', 'and', 'pay', 'the', 'shareholders', '€900000', 'youve', 'paid', '€8', 'million', 'for', 'the', 'company', 'absorbing', 'the', 'debts', 'means', 'youre', 'paying', 'them', 'yourself', 'youve', 'bought', 'the', 'company', 'the', 'company', 'for', '€8', 'million', 'but', 'because', 'it', 'is', 'saddled', 'with', 'debts', 'of', '€71', 'million', 'which', 'you', 'have', 'got', 'to', 'pay', 'yourself', 'you', 'give', 'the', 'shareholders', '€900000a', 'reader', 'who', 'is', 'a', 'corporate', 'financial', 'controller', 'wrote', 'in', 'no', 'wonder', 'theyre', 'making', 'such', 'a', 'bloody', 'mess', 'if', 'they', 'cant', 'understand', 'something', 'so', 'basicand', 'to', 'demonstrate', 'that', 'it', 'is', 'robert', 'abela', 'and', 'the', 'justice', 'minister', 'who', 'are', 'lying', 'or', 'damned', 'stupid', 'heres', 'something', 'that', 'i', 'hadnt', 'bothered', 'to', 'upload', 'with', 'my', 'original', 'report', 'about', 'the', 'subject', 'though', 'it', 'looks', 'like', 'i', 'should', 'have', 'the', 'actual', 'contract', 'of', 'purchase', 'for', 'the', 'sum', 'of', '€8', 'million', 'you', 'couldnt', 'make', 'these', 'freeloading', 'bogans', 'up', 'perhaps', 'mrs', 'luciano', 'busuttil', 'will', 'now', 'write', 'us', 'a', 'little', 'explanation', 'of', 'how', 'she', 'came', 'to', 'be', 'put', 'on', 'the', 'payroll', 'at', 'the', 'malta', 'gaming', 'authority', 'after', 'taghna', 'lkoll', 'got', 'into', 'power', 'and', 'the', 'malta', 'gaming', 'authority', 'was', 'turned', 'into', 'a', 'labour', 'snakepitnote', 'to', 'dorothy', 'everywhere', 'in', 'europe', 'the', 'only', 'women', 'who', 'wear', 'makeup', 'like', 'that', 'especially', 'in', 'the', 'daytime', 'are', 'hookers', 'thick', 'masklike', 'makeup', 'in', 'the', 'european', 'context', 'is', 'socially', 'unacceptable', 'for', 'roughly', 'the', 'same', 'reason', 'as', 'actual', 'masks', 'are', 'all', 'you', 'had', 'to', 'do', 'was', 'look', 'at', 'who', 'nominated', 'them', 'and', 'who', 'they', 'nominated', 'heres', 'maria', 'micallef', 'air', 'malta', 'chairman', 'back', 'in', 'the', 'summer', 'of', 'when', 'this', 'ridiculous', 'business', 'was', 'all', 'the', 'rage', 'michelle', 'muscat', 'nominated', 'her', 'she', 'says', 'and', 'she', 'herself', 'nominates', 'phyllis', 'muscat', 'what', 'can', 'i', 'say', 'cute', 'time', 'for', 'a', 'memoryrefresh', 'three', 'months', 'after', 'labour', 'won', 'the', 'general', 'elections', 'joseph', 'muscat', 'called', 'the', 'press', 'to', 'the', 'office', 'of', 'the', 'prime', 'minister', 'and', 'presented', 'them', 'with', 'john', 'dalli', 'announcing', 'that', 'a', 'man', 'of', 'such', 'great', 'talent', 'should', 'not', 'go', 'to', 'waste', 'and', 'that', 'he', 'required', 'dallis', 'excellent', 'skills', 'in', 'a', 'decisionmaking', 'position', 'it', 'later', 'emerged', 'that', 'this', 'decisionmaking', 'position', 'concerned', 'public', 'hospitals', 'and', 'dalli', 'immediately', 'installed', 'himself', 'at', 'the', 'state', 'general', 'hospital', 'along', 'with', 'his', 'daughterthis', 'announcement', 'see', 'videos', 'below', 'took', 'place', 'on', 'june', 'days', 'after', 'konrad', 'mizzis', 'hearnville', 'inc', 'and', 'keith', 'schembris', 'tillgate', 'inc', 'were', 'incorporated', 'in', 'panama', 'egrant', 'inc', 'the', 'name', 'of', 'whose', 'ultimate', 'beneficial', 'owner', 'was', 'not', 'recorded', 'in', 'the', 'panama', 'papers', 'emailcache', 'because', 'it', 'was', 'given', 'over', 'skype', 'was', 'incorporated', 'on', 'july', 'youd', 'think', 'that', 'politicians', 'and', 'activists', 'who', 'work', 'for', 'political', 'parties', 'would', 'know', 'that', 'the', 'descriptors', 'moderate', 'and', 'extremist', 'refer', 'to', 'ideology', 'and', 'policy', 'but', 'with', 'the', 'labour', 'party', 'thats', 'not', 'the', 'case', 'largely', 'because', 'the', 'words', 'policy', 'and', 'ideology', 'mean', 'nothing', 'to', 'them', 'labour', 'thinks', 'in', 'these', 'terms', 'power', 'money', 'contracts', 'and', 'jobsin', 'politics', 'an', 'extremist', 'is', 'somebody', 'who', 'espouses', 'far', 'right', 'ideology', 'kick', 'out', 'immigrants', 'for', 'example', 'or', 'malta', 'for', 'the', 'maltese', 'or', 'at', 'the', 'other', 'end', 'of', 'the', 'spectrum', 'somebody', 'who', 'passes', 'a', 'law', 'saying', 'that', 'you', 'can', 'change', 'your', 'gender', 'by', 'going', 'to', 'a', 'notary', 'and', 'having', 'a', 'deed', 'drawn', 'up', 'no', 'need', 'for', 'surgery', 'or', 'anything', 'like', 'thatmoderates', 'meanwhile', 'are', 'nice', 'civilised', 'people', 'who', 'just', 'want', 'a', 'quiet', 'public', 'life', 'with', 'no', 'corrupt', 'politicians', 'respect', 'the', 'rights', 'of', 'others', 'and', 'believe', 'in', 'freedom', 'of', 'expression', 'without', 'the', 'pollution', 'of', 'government', 'aides', 'trying', 'to', 'frighten', 'critics', 'into', 'silence', 'among', 'other', 'thingsbut', 'thats', 'not', 'how', 'the', 'labour', 'partygovernment', 'reads', 'it', 'to', 'those', 'ignorant', 'goons', 'moderates', 'are', 'people', 'who', 'dont', 'criticise', 'the', 'labour', 'party', 'much', 'or', 'nationalist', 'politicians', 'who', 'give', 'labour', 'a', 'free', 'or', 'easy', 'ride', 'and', 'extremists', 'are', 'those', 'who', 'give', 'corrupt', 'labour', 'the', 'bollocking', 'it', 'deserves', 'so', 'i', 'who', 'am', 'not', 'involved', 'in', 'politics', 'at', 'all', 'and', 'who', 'espouses', 'the', 'most', 'moderate', 'kind', 'of', 'political', 'ideology', 'liberal', 'far', 'removed', 'from', 'the', 'extremes', 'of', 'right', 'and', 'left', 'am', 'an', 'extremist', 'for', 'calling', 'out', 'the', 'labour', 'government', 'on', 'its', 'shocking', 'corruption', 'and', 'for', 'pointing', 'out', 'that', 'when', 'we', 'out', 'here', 'are', 'relying', 'on', 'the', 'nationalist', 'party', 'to', 'rid', 'us', 'of', 'those', 'criminals', 'those', 'nationalist', 'politicians', 'who', 'are', 'not', 'pulling', 'their', 'weight', 'either', 'because', 'they', 'are', 'unable', 'or', 'unwilling', 'to', 'do', 'so', 'are', 'letting', 'us', 'downthe', 'definition', 'of', 'a', 'political', 'extremist', 'is', 'not', 'a', 'citizen', 'or', 'journalist', 'with', 'an', 'extreme', 'desire', 'to', 'see', 'the', 'back', 'of', 'this', 'corrupt', 'and', 'abusive', 'outfit', 'thats', 'the', 'definition', 'of', 'a', 'normal', 'decent', 'personbut', 'the', 'defining', 'characteristic', 'of', 'the', 'malta', 'labour', 'party', 'other', 'than', 'abuse', 'and', 'corruption', 'is', 'ignorance', 'about', 'the', 'meaning', 'of', 'words', 'and', 'concepts', 'if', 'the', 'corrupt', 'cabal', 'in', 'government', 'are', 'reduced', 'to', 'wheeling', 'out', 'owen', 'talajkla', 'to', 'go', 'after', 'jason', 'azzopardi', 'with', 'the', 'help', 'of', 'the', 'super', 'one', 'cameras', 'theyre', 'not', 'getting', 'anywhere', 'fast', 'because', 'the', 'whole', 'thing', 'reeks', 'of', 'desperationthey', 'are', 'however', 'putting', 'the', 'usually', 'calm', 'and', 'collected', 'azzopardi', 'under', 'massive', 'amounts', 'of', 'psychological', 'stress', 'to', 'the', 'point', 'where', 'it', 'shows', 'that', 'he', 'cant', 'focus', 'in', 'his', 'usual', 'manner', 'ad', 'that', 'is', 'exactly', 'why', 'the', 'governmentlabour', 'party', 'are', 'going', 'after', 'him', 'he', 'now', 'looks', 'and', 'feels', 'hunted', 'by', 'malign', 'people', 'in', 'power', 'which', 'has', 'been', 'the', 'intention', 'all', 'alongthat', 'would', 'be', 'why', 'he', 'took', 'the', 'illconceived', 'decision', 'to', 'ring', 'the', 'police', 'when', 'he', 'found', 'the', 'labour', 'party', 'cameras', 'and', 'propagandists', 'outside', 'his', 'office', 'it', 'was', 'a', 'decision', 'he', 'wouldnt', 'have', 'taken', 'if', 'he', 'were', 'thinking', 'clearly', 'when', 'the', 'mental', 'fog', 'lifted', 'he', 'apologisedazzopardi', 'has', 'open', 'lines', 'of', 'communications', 'with', 'journalists', 'in', 'the', 'independent', 'press', 'he', 'is', 'one', 'of', 'the', 'most', 'accessible', 'politicians', 'in', 'that', 'respect', 'we', 'all', 'know', 'that', 'he', 'takes', 'calls', 'returns', 'them', 'messages', 'with', 'an', 'apology', 'if', 'he', 'cant', 'answer', 'the', 'phone', 'gives', 'answers', 'and', 'promises', 'to', 'get', 'the', 'answer', 'if', 'he', 'cant', 'do', 'it', 'there', 'and', 'then', 'and', 'does', 'soit', 'was', 'so', 'unjust', 'therefore', 'that', 'the', 'ridiculous', 'institute', 'of', 'maltese', 'journalists', 'issued', 'a', 'statement', 'taking', 'him', 'to', 'task', 'for', 'ringing', 'the', 'police', 'when', 'he', 'found', 'labour', 'party', 'employees', 'with', 'their', 'cameras', 'outside', 'his', 'office', 'have', 'they', 'ever', 'leaped', 'to', 'my', 'defence', 'in', 'that', 'way', 'no', 'much', 'how', 'much', 'harassment', 'i', 'have', 'gone', 'through', 'at', 'the', 'hands', 'of', 'the', 'police', 'and', 'politicians', 'no', 'and', 'i', 'actually', 'am', 'a', 'journalist', 'rather', 'than', 'an', 'employee', 'of', 'a', 'political', 'party', 'the', 'institute', 'of', 'maltese', 'journalists', 'is', 'politically', 'motivedthe', 'employees', 'of', 'political', 'parties', 'are', 'not', 'journalists', 'in', 'the', 'real', 'sense', 'of', 'the', 'word', 'and', 'it', 'is', 'high', 'time', 'this', 'important', 'point', 'is', 'considered', 'and', 'the', 'distinction', 'made', 'the', 'fundamental', 'principles', 'which', 'underpin', 'the', 'protection', 'and', 'special', 'status', 'of', 'journalists', 'under', 'the', 'law', 'are', 'based', 'on', 'the', 'fact', 'that', 'journalists', 'act', 'in', 'the', 'service', 'of', 'the', 'public', 'by', 'holding', 'politicians', 'and', 'others', 'in', 'high', 'public', 'office', 'to', 'account', 'it', 'stands', 'to', 'reason', 'that', 'if', 'somebody', 'is', 'paid', 'to', 'work', 'for', 'politicians', 'on', 'the', 'payroll', 'of', 'a', 'political', 'party', 'then', 'he', 'is', 'in', 'the', 'service', 'of', 'the', 'politicians', 'he', 'is', 'meant', 'to', 'scrutinise', 'and', 'not', 'in', 'the', 'service', 'of', 'the', 'publicthe', 'people', 'hounding', 'jason', 'azzopardi', 'and', 'hanging', 'around', 'his', 'office', 'door', 'are', 'not', 'journalists', 'but', 'labour', 'party', 'employees', 'and', 'the', 'sooner', 'we', 'get', 'this', 'straight', 'the', 'better', 'they', 'dont', 'even', 'make', 'any', 'attempt', 'at', 'pretending', 'that', 'what', 'they', 'are', 'doing', 'is', 'journalism', 'and', 'they', 'are', 'not', 'after', 'the', 'truth', 'or', 'the', 'facts', 'but', 'are', 'there', 'as', 'agents', 'of', 'the', 'governing', 'party', 'to', 'harass', 'politicians', 'of', 'the', 'rival', 'opposition', 'party', 'that', 'is', 'not', 'an', 'exercise', 'in', 'democracy', 'and', 'freedom', 'of', 'expression', 'but', 'the', 'precise', 'oppositewhich', 'brings', 'me', 'to', 'another', 'related', 'point', 'the', 'labour', 'party', 'is', 'in', 'government', 'it', 'is', 'in', 'power', 'it', 'should', 'understand', 'that', 'the', 'tactics', 'it', 'used', 'when', 'in', 'opposition', 'look', 'really', 'very', 'ugly', 'now', 'it', 'is', 'one', 'thing', 'sending', 'your', 'party', 'employees', 'and', 'party', 'cameras', 'to', 'harass', 'government', 'politicians', 'when', 'you', 'are', 'in', 'opposition', 'but', 'the', 'governing', 'party', 'sending', 'its', 'party', 'employees', 'and', 'cameras', 'to', 'harass', 'opposition', 'politicians', 'and', 'critics', 'of', 'the', 'government', 'thats', 'absolutely', 'terrible', 'and', 'it', 'is', 'being', 'read', 'as', 'terrible', 'if', 'not', 'in', 'malta', 'then', 'certainly', 'outside', 'malta', 'those', 'are', 'totalitarian', 'tactics', 'and', 'in', 'the', 'civilised', 'world', 'they', 'are', 'viewed', 'with', 'disgust', 'and', 'dismaymeanwhile', 'i', 'have', 'a', 'message', 'for', 'all', 'those', 'intellectually', 'challenged', 'members', 'of', 'the', 'maltese', 'chattering', 'class', 'and', 'god', 'knows', 'its', 'pretty', 'big', 'who', 'are', 'oohing', 'and', 'aahing', 'because', 'poor', 'mario', 'demarco', 'has', 'been', 'attacked', 'by', 'a', 'blogpost', 'on', 'this', 'website', 'are', 'you', 'all', 'out', 'of', 'your', 'tiny', 'minds', 'havent', 'you', 'bloody', 'noticed', 'that', 'the', 'nationalist', 'politician', 'who', 'really', 'is', 'under', 'attack', 'is', 'jason', 'azzopardi', 'by', 'the', 'governing', 'party', 'and', 'its', 'entire', 'mammoth', 'party', 'media', 'machine', 'how', 'about', 'focussing', 'your', 'idiotic', 'minds', 'for', 'a', 'change', 'as', 'though', 'the', 'mess', 'you', 'made', 'in', 'wasnt', 'bad', 'enough', 'and', 'work', 'out', 'what', 'is', 'going', 'on', 'who', 'really', 'needs', 'your', 'support', 'and', 'who', 'is', 'really', 'doing', 'some', 'actual', 'attacking', 'there', 'has', 'been', 'a', 'strange', 'show', 'of', 'alliance', 'between', 'the', 'labour', 'partygovernment', 'and', 'one', 'of', 'the', 'nationalist', 'partys', 'deputy', 'leaders', 'mario', 'demarco', 'over', 'the', 'last', 'few', 'days', 'we', 'were', 'even', 'subjected', 'to', 'the', 'unsavoury', 'spectacle', 'of', 'keith', 'schembri', 'the', 'prime', 'ministers', 'corrupt', 'chief', 'of', 'staff', 'posting', 'a', 'message', 'of', 'support', 'on', 'demarcos', 'facebook', 'page', 'and', 'demarco', 'returning', 'the', 'compliment', 'in', 'an', 'interview', 'he', 'gave', 'to', 'the', 'times', 'of', 'maltawhy', 'doesnt', 'anybody', 'see', 'anything', 'peculiar', 'in', 'the', 'way', 'the', 'labour', 'party', 'never', 'touches', 'mario', 'demarco', 'that', 'quite', 'to', 'the', 'contrary', 'it', 'actually', 'goes', 'out', 'of', 'its', 'way', 'to', 'support', 'him', 'from', 'the', 'way', 'they', 'talk', 'youd', 'think', 'he', 'was', 'a', 'labour', 'politician', 'one', 'of', 'theirspeoples', 'minds', 'just', 'dont', 'work', 'on', 'this', 'island', 'they', 'dont', 'join', 'the', 'dots', 'they', 'never', 'see', 'whats', 'staring', 'them', 'in', 'the', 'face', 'even', 'if', 'it', 'has', 'pink', 'bells', 'on', 'but', 'then', 'they', 'believe', 'conspiracy', 'theories', 'and', 'the', 'more', 'outlandish', 'the', 'bettermario', 'demarco', 'and', 'keith', 'schembri', 'the', 'prime', 'ministers', 'corrupt', 'chief', 'of', 'staff', 'have', 'adrian', 'hillman', 'the', 'corrupt', 'former', 'managing', 'direct', 'of', 'allied', 'newspapers', 'ltd', 'in', 'common', 'though', 'not', 'for', 'the', 'same', 'reasons', 'if', 'you', 'want', 'to', 'read', 'up', 'on', 'the', 'backstory', 'to', 'adrian', 'hillmans', 'corruption', 'with', 'keith', 'schembri', 'or', 'maybe', 'youve', 'forgotten', 'already', 'just', 'enter', 'his', 'name', 'into', 'the', 'search', 'box', 'at', 'the', 'top', 'of', 'this', 'pagemario', 'demarco', 'and', 'adrian', 'hillman', 'have', 'been', 'best', 'friends', 'all', 'their', 'lives', 'and', 'it', 'was', 'mario', 'demarcos', 'father', 'who', 'installed', 'hillman', 'at', 'allied', 'newspapers', 'and', 'had', 'him', 'anointed', 'as', 'the', 'single', 'replacement', 'for', 'both', 'progress', 'presss', 'wilfred', 'asciak', 'and', 'allied', 'newspapers', 'ronnie', 'agius', 'when', 'they', 'retireddemarco', 'had', 'no', 'knowledge', 'of', 'hillmans', 'corruption', 'and', 'the', 'exact', 'nature', 'of', 'his', 'friendship', 'with', 'the', 'labour', 'partys', 'keith', 'schembri', 'though', 'there', 'is', 'no', 'way', 'he', 'couldnt', 'have', 'known', 'that', 'there', 'was', 'a', 'close', 'relationship', 'did', 'he', 'never', 'wonder', 'about', 'itdemarco', 'has', 'since', 'broken', 'off', 'all', 'contact', 'with', 'hillman', 'because', 'of', 'the', 'massive', 'betrayal', 'of', 'trust', 'but', 'the', 'fact', 'remains', 'that', 'keith', 'schembri', 'was', 'never', 'going', 'to', 'direct', 'the', 'labour', 'party', 'to', 'launch', 'any', 'kind', 'of', 'onslaught', 'on', 'demarco', 'as', 'long', 'as', 'he', 'was', 'best', 'friends', 'with', 'his', 'corrupt', 'associate', 'hillman', 'he', 'is', 'still', 'protecting', 'demarco', 'now', 'as', 'we', 'can', 'see', 'from', 'the', 'comment', 'he', 'left', 'on', 'his', 'facebook', 'page', 'and', 'this', 'only', 'makes', 'me', 'wonder', 'who', 'knows', 'what', 'about', 'whom', 'among', 'those', 'three', 'peoplewe', 'still', 'dont', 'know', 'exactly', 'what', 'is', 'going', 'on', 'beneath', 'the', 'surface', 'there', 'and', 'nobody', 'not', 'the', 'nationalist', 'party', 'not', 'the', 'times', 'of', 'malta', 'and', 'certainly', 'not', 'the', 'labour', 'party', 'seems', 'to', 'have', 'any', 'interest', 'in', 'reminding', 'people', 'that', 'the', 'prime', 'ministers', 'chief', 'of', 'staff', 'was', 'involved', 'in', 'corrupt', 'dealings', 'with', 'the', 'managing', 'director', 'of', 'maltas', 'most', 'influential', 'newspaper', 'and', 'printing', 'press', 'during', 'the', 'years', 'to', 'which', 'covered', 'an', 'extremely', 'turbulent', 'period', 'in', 'politics', 'and', 'also', 'the', 'general', 'election', 'campaign', 'the', 'nationalist', 'partys', 'deputy', 'leader', 'has', 'no', 'interest', 'in', 'reminding', 'people', 'about', 'this', 'massive', 'scandal', 'because', 'one', 'of', 'the', 'people', 'involved', 'was', 'his', 'best', 'friend', 'a', 'very', 'painful', 'situation', 'for', 'him', 'at', 'a', 'personal', 'level', 'and', 'the', 'labour', 'party', 'wants', 'people', 'to', 'forget', 'because', 'it', 'involves', 'the', 'prime', 'ministers', 'corrupt', 'chief', 'of', 'staff', 'and', 'for', 'obvious', 'reasons', 'its', 'a', 'story', 'the', 'times', 'of', 'malta', 'is', 'not', 'going', 'to', 'keep', 'alive', 'malta', 'today', 'for', 'reasons', 'that', 'remain', 'unclear', 'never', 'touches', 'keith', 'schembri', 'and', 'didnt', 'even', 'go', 'after', 'him', 'when', 'his', 'web', 'of', 'secret', 'companies', 'was', 'revealed', 'this', 'is', 'how', 'situations', 'turn', 'foul', 'in', 'malta', 'with', 'a', 'great', 'conspiracy', 'of', 'silence', 'about', 'the', 'most', 'dangerous', 'people', 'while', 'those', 'who', 'shouldnt', 'be', 'persecuted', 'by', 'the', 'press', 'and', 'politicians', 'are', 'the', 'national', 'commission', 'for', 'the', 'disabled', 'has', 'reported', 'labour', 'mp', 'luciano', 'busuttil', 'and', 'his', 'wife', 'dorothy', 'to', 'the', 'police', 'for', 'abusive', 'possession', 'of', 'a', 'blue', 'badge', 'which', 'entitles', 'the', 'holder', 'to', 'park', 'in', 'spaces', 'reserved', 'for', 'the', 'disabled', 'the', 'police', 'have', 'been', 'requested', 'to', 'seize', 'the', 'badge', 'and', 'to', 'investigate', 'the', 'mattermrs', 'busuttil', 'has', 'used', 'the', 'disabled', 'parking', 'badge', 'for', 'four', 'years', 'having', 'acquired', 'it', 'through', 'unclear', 'means', 'in', 'supposedly', 'after', 'a', 'car', 'accident', 'she', 'has', 'no', 'signs', 'of', 'any', 'disability', 'at', 'all', 'still', 'less', 'the', 'severely', 'impaired', 'mobility', 'which', 'is', 'the', 'primary', 'requirement', 'for', 'entitlement', 'to', 'use', 'a', 'disabled', 'parking', 'bay', 'mrs', 'busuttil', 'can', 'walk', 'normally', 'and', 'is', 'never', 'seen', 'without', 'a', 'pair', 'of', 'high', 'heels', 'which', 'she', 'wears', 'even', 'to', 'the', 'office', 'when', 'out', 'with', 'her', 'children', 'and', 'for', 'daily', 'errandsthe', 'story', 'began', 'here', 'and', 'then', 'escalated', 'with', 'this', 'post', 'which', 'was', 'shared', 'times', 'on', 'facebookread', 'the', 'newspaper', 'reports', 'belownewsbookthe', 'malta', 'independentmalta', 'todaytimes', 'of', 'malta', 'when', 'the', 'story', 'broke', 'this', 'evening', 'that', 'the', 'national', 'commission', 'for', 'the', 'disabled', 'had', 'immediately', 'launched', 'an', 'inquiry', 'after', 'this', 'report', 'and', 'this', 'telephone', 'conversation', 'labour', 'mp', 'luciano', 'busuttil', 'who', 'is', 'also', 'cynically', 'not', 'ironically', 'chairman', 'of', 'the', 'national', 'sports', 'council', 'released', 'a', 'statement', 'saying', 'that', 'he', 'never', 'held', 'a', 'disabledparking', 'badge', 'or', 'used', 'his', 'wifesthat', 'was', 'not', 'however', 'the', 'national', 'commission', 'for', 'the', 'disableds', 'reason', 'for', 'asking', 'the', 'police', 'to', 'seize', 'it', 'nor', 'was', 'it', 'the', 'main', 'item', 'in', 'my', 'reports', 'on', 'this', 'website', 'it', 'was', 'something', 'else', 'entirely', 'that', 'mrs', 'busuttil', 'herself', 'is', 'not', 'entitled', 'to', 'use', 'parking', 'space', 'reserved', 'for', 'the', 'disabled', 'because', 'she', 'does', 'not', 'have', 'impaired', 'mobility', 'in', 'other', 'words', 'because', 'she', 'can', 'walk', 'and', 'also', 'spends', 'her', 'entire', 'day', 'in', 'very', 'high', 'heelsbut', 'when', 'he', 'says', 'that', 'he', 'never', 'used', 'his', 'wifes', 'abusively', 'acquired', 'disabledparking', 'badge', 'he', 'is', 'lying', 'the', 'photograph', 'below', 'shows', 'luciano', 'busuttils', 'car', 'his', 'car', 'not', 'his', 'wifes', 'parking', 'squarely', 'in', 'the', 'disabledparking', 'bay', 'outside', 'arkadia', 'in', 'victoria', 'the', 'photograph', 'was', 'taken', 'at', 'around', 'noon', 'on', 'december', 'and', 'the', 'senior', 'school', 'official', 'who', 'took', 'it', 'said', 'that', 'luciano', 'busuttil', 'was', 'driving', 'and', 'that', 'none', 'of', 'his', 'passengers', 'who', 'included', 'his', 'wife', 'were', 'even', 'remotely', 'unable', 'to', 'walk', 'so', 'much', 'so', 'that', 'everyone', 'was', 'taken', 'aback', 'who', 'saw', 'them', 'park', 'there', 'and', 'walk', 'out', 'brazenly', 'adrian', 'hillman', 'the', 'corrupt', 'former', 'managing', 'director', 'of', 'allied', 'newspapers', 'ltd', 'the', 'company', 'which', 'publishes', 'the', 'times', 'of', 'malta', 'and', 'the', 'sunday', 'times', 'was', 'seen', 'together', 'with', 'ramona', 'frendo', 'a', 'lawyer', 'who', 'was', 'a', 'postergirl', 'for', 'labours', 'general', 'election', 'campaign', 'in', 'a', 'valletta', 'café', 'today', 'they', 'were', 'in', 'intense', 'conversationa', 'year', 'ago', 'this', 'website', 'revealed', 'that', 'hillman', 'was', 'involved', 'in', 'corrupt', 'secret', 'business', 'dealings', 'with', 'keith', 'schembri', 'the', 'prime', 'ministers', 'chief', 'of', 'staff', 'who', 'was', 'also', 'the', 'single', 'biggest', 'supplier', 'to', 'allied', 'newspapers', 'and', 'its', 'associate', 'company', 'progress', 'pressthe', 'two', 'had', 'set', 'up', 'linked', 'secret', 'companies', 'in', 'the', 'british', 'virgin', 'islands', 'and', 'cyprus', 'their', 'shareholding', 'obscured', 'by', 'nominees', 'through', 'which', 'transactions', 'of', 'many', 'hundreds', 'of', 'thousands', 'of', 'euros', 'were', 'made', 'typos', 'that', 'slip', 'past', 'us', 'are', 'problems', 'we', 'all', 'have', 'to', 'contend', 'with', 'when', 'were', 'working', 'in', 'print', 'but', 'this', 'is', 'something', 'else', 'again', 'readers', 'how', 'did', 'it', 'come', 'to', 'this', 'joe', 'baldacchino', 'who', 'is', 'a', 'person', 'of', 'trust', 'in', 'the', 'ministry', 'of', 'home', 'affairs', 'minister', 'carmelo', 'abela', 'uploaded', 'this', 'post', 'on', 'facebook', 'a', 'couple', 'of', 'days', 'ago', 'thinking', 'it', 'was', 'a', 'private', 'message', 'to', 'ludgard', 'scicluna', 'another', 'person', 'of', 'trust', 'in', 'the', 'same', 'ministry', 'instead', 'it', 'was', 'on', 'full', 'public', 'view', 'for', 'a', 'few', 'minutes', 'and', 'a', 'quickacting', 'individual', 'grabbed', 'a', 'screenshot', 'which', 'has', 'since', 'been', 'the', 'subject', 'of', 'much', 'discussion', 'these', 'two', 'persons', 'of', 'trust', 'are', 'hatching', 'a', 'plot', 'between', 'them', 'to', 'create', 'a', 'fake', 'vacancy', 'in', 'the', 'same', 'ministry', 'for', 'another', 'person', 'of', 'trust', 'tricking', 'the', 'permanent', 'secretary', 'who', 'is', 'putting', 'spokes', 'into', 'their', 'wheels', 'into', 'believing', 'it', 'is', 'necessary', 'the', 'vacancy', 'will', 'be', 'advertised', 'and', 'people', 'will', 'be', 'interviewed', 'but', 'the', 'job', 'has', 'been', 'created', 'for', 'jeffery', 'the', 'son', 'of', 'one', 'of', 'them', 'the', 'minister', 'knows', 'everything', 'the', 'one', 'tells', 'the', 'other', 'but', 'that', 'permanent', 'secretary', 'is', 'really', 'being', 'a', 'bitch', 'isnt', 'it', 'fantastic', 'so', 'now', 'we', 'have', 'a', 'cabinet', 'minister', 'plotting', 'with', 'his', 'partyapparatchik', 'persons', 'of', 'trust', 'who', 'he', 'has', 'put', 'on', 'the', 'state', 'payroll', 'to', 'outwit', 'his', 'permanent', 'secretarythis', 'country', 'is', 'being', 'run', 'by', 'corrupt', 'trash', 'the', 'message', 'is', 'in', 'translation', 'belowludgard', 'i', 'hope', 'that', 'you', 'are', 'well', 'twanny', 'informs', 'me', 'that', 'you', 'are', 'unwell', 'i', 'am', 'convinced', 'that', 'you', 'will', 'soon', 'be', 'healthy', 'again', 'and', 'that', 'you', 'will', 'continue', 'with', 'your', 'workid', 'like', 'to', 'bring', 'you', 'up', 'to', 'date', 'about', 'your', 'son', 'jeffery', 'today', 'i', 'planted', 'in', 'the', 'perm', 'secs', 'head', 'the', 'idea', 'that', 'we', 'need', 'somebody', 'with', 'experience', 'in', 'logistics', 'jeffery', 'is', 'very', 'knowledgeable', 'in', 'this', 'field', 'and', 'as', 'soon', 'as', 'i', 'have', 'permission', 'to', 'advertise', 'the', 'vacancy', 'be', 'sure', 'that', 'the', 'job', 'will', 'be', 'reserved', 'for', 'jefferythe', 'minister', 'is', 'informed', 'about', 'everything', 'that', 'is', 'everything', 'were', 'doing', 'is', 'done', 'with', 'his', 'blessing', 'but', 'the', 'perm', 'secs', 'bureaucracy', 'is', 'endless', 'we', 'will', 'do', 'our', 'duty', 'my', 'friend', 'and', 'carry', 'on', 'convincing', 'people', 'until', 'the', 'end', 'tomorrow', 'i', 'have', 'another', 'meeting', 'with', 'the', 'perm', 'sec', 'and', 'i', 'will', 'continue', 'to', 'struggle', 'against', 'him', 'to', 'get', 'this', 'job', 'created', 'for', 'jefferytake', 'heart', 'friend', 'because', 'the', 'minister', 'needs', 'all', 'the', 'help', 'he', 'can', 'possibly', 'getbest', 'regardsjosephevery', 'day', 'on', 'the', 'radio', 'we', 'are', 'bombarded', 'with', 'messages', 'reminding', 'us', 'that', 'using', 'our', 'phones', 'while', 'driving', 'can', 'cause', 'us', 'to', 'kill', 'or', 'maim', 'somebody', 'fines', 'for', 'those', 'caught', 'driving', 'while', 'holding', 'their', 'phone', 'have', 'increasedbut', 'yesterday', 'morning', 'a', 'magistrate', 'who', 'is', 'expected', 'to', 'sit', 'in', 'judgement', 'over', 'others', 'who', 'cause', 'accidents', 'while', 'using', 'their', 'phones', 'and', 'driving', 'at', 'the', 'same', 'time', 'was', 'herself', 'seen', 'doing', 'just', 'thata', 'friend', 'who', 'was', 'driving', 'towards', 'rabat', 'from', 'qormi', 'just', 'before', '10am', 'yesterday', 'was', 'almost', 'hit', 'by', 'a', 'convertible', 'sports', 'car', 'that', 'sped', 'out', 'of', 'a', 'side', 'road', 'near', 'the', 'zebbug', 'roundabout', 'magistrate', 'consuelo', 'scerri', 'herrera', 'was', 'at', 'the', 'wheeli', 'had', 'the', 'right', 'of', 'way', 'because', 'i', 'was', 'on', 'the', 'main', 'road', 'and', 'approaching', 'the', 'roundabout', 'my', 'friend', 'said', 'but', 'she', 'just', 'sped', 'out', 'of', 'the', 'sideroad', 'without', 'looking', 'she', 'had', 'her', 'mobile', 'phone', 'in', 'her', 'right', 'hand', 'up', 'against', 'her', 'ear', 'and', 'was', 'obviously', 'distracted', 'she', 'made', 'no', 'sign', 'of', 'apology', 'and', 'instead', 'honked', 'irritably', 'at', 'me', 'when', 'she', 'saw', 'that', 'i', 'wasnt', 'going', 'to', 'get', 'out', 'of', 'her', 'way', 'she', 'gave', 'me', 'a', 'vicious', 'look', 'she', 'didnt', 'look', 'bothered', 'or', 'embarrassed', 'at', 'all', 'that', 'she', 'had', 'been', 'recognised', 'as', 'a', 'magistrate', 'breaking', 'the', 'law', 'by', 'driving', 'and', 'using', 'her', 'phone', 'look', 'at', 'the', 'way', 'the', 'british', 'prime', 'minister', 'is', 'dressed', 'dorothys', 'red', 'shoes', 'were', 'apparently', 'not', 'enough', 'to', 'take', 'her', 'down', 'the', 'yellow', 'brick', 'road', 'and', 'the', 'us', 'president', 'has', 'lowered', 'the', 'hand', 'that', 'he', 'would', 'usually', 'direct', 'at', 'a', 'mans', 'back', 'to', 'the', 'prime', 'ministers', 'bottom', 'dear', 'daphnethis', 'morning', 'i', 'travelled', 'in', 'business', 'class', 'to', 'munich', 'on', 'an', 'air', 'malta', 'flight', 'code', 'shared', 'with', 'lufthansa', 'i', 'was', 'handed', 'three', 'newspapers', 'the', 'sunday', 'times', 'of', 'malta', 'malta', 'today', 'and', 'to', 'my', 'surprise', 'the', 'general', 'workers', 'unions', 'sunday', 'newspaper', 'ittorca', 'i', 'wonder', 'if', 'it', 'is', 'air', 'maltas', 'normal', 'practice', 'to', 'give', 'passengers', 'ittorca', 'or', 'whether', 'this', 'was', 'because', 'the', 'tourism', 'minister', 'was', 'on', 'board', 'travelling', 'in', 'business', 'class', 'tooyours', 'updated', 'with', 'response', 'from', 'state', 'general', 'hospital', 'ceo', 'below', 'ana', 'gomes', 'the', 'socialist', 'mep', 'who', 'is', 'vicechair', 'of', 'the', 'european', 'parliaments', 'pana', 'committee', 'has', 'ripped', 'into', 'maltas', 'financial', 'services', 'system', 'saying', 'it', 'is', 'tailormade', 'for', 'criminals', 'and', 'moneylaunderinga', 'particular', 'problem', 'she', 'said', 'is', 'the', 'nominee', 'system', 'of', 'company', 'incorporation', 'which', 'allows', 'russian', 'doll', 'structures', 'which', 'hide', 'the', 'ultimate', 'beneficial', 'owner', 'of', 'the', 'company', 'russian', 'doll', 'companies', 'are', 'those', 'in', 'which', 'a', 'companys', 'shares', 'are', 'held', 'by', 'other', 'companies', 'with', 'all', 'shares', 'in', 'the', 'last', 'traceable', 'company', 'being', 'held', 'by', 'nominees', 'to', 'conceal', 'the', 'real', 'ownershipunder', 'maltese', 'company', 'law', 'the', 'ultimate', 'beneficial', 'owner', 'of', 'any', 'company', 'incorporated', 'in', 'malta', 'must', 'be', 'known', 'to', 'the', 'malta', 'financial', 'services', 'authority', 'even', 'if', 'it', 'is', 'hidden', 'from', 'public', 'knowledge', 'by', 'the', 'use', 'of', 'nominees', 'this', 'does', 'not', 'apply', 'however', 'to', 'companies', 'incorporated', 'in', 'secretive', 'jurisdictions', 'like', 'the', 'british', 'virgin', 'islands', 'or', 'panama', 'this', 'means', 'that', 'a', 'company', 'incorporated', 'in', 'malta', 'under', 'maltese', 'law', 'can', 'still', 'have', 'its', 'ultimate', 'beneficial', 'ownership', 'hidden', 'if', 'the', 'last', 'stop', 'shareholder', 'is', 'a', 'company', 'incorporated', 'in', 'one', 'of', 'those', 'secretive', 'jurisdictions', 'using', 'nomineesone', 'very', 'notorious', 'example', 'of', 'this', 'is', 'vitals', 'global', 'healthcare', 'ltd', 'a', 'startup', 'company', 'incorporated', 'in', 'malta', 'to', 'which', 'the', 'government', 'has', 'signed', 'over', 'several', 'of', 'maltas', 'public', 'hospitals', 'its', 'ultimate', 'beneficial', 'owner', 'is', 'concealed', 'by', 'a', 'company', 'registered', 'in', 'the', 'british', 'virgin', 'islands', 'bluestone', 'situation', 'whose', 'shareholding', 'ownership', 'is', 'concealed', 'by', 'nomineesin', 'other', 'words', 'the', 'maltese', 'public', 'civil', 'service', 'hospital', 'authorities', 'hospital', 'employees', 'patients', 'and', 'even', 'the', 'members', 'of', 'the', 'cabinet', 'of', 'government', 'themselves', 'beyond', 'konrad', 'mizzi', 'and', 'the', 'prime', 'minister', 'do', 'not', 'know', 'who', 'owns', 'the', 'company', 'which', 'is', 'running', 'several', 'of', 'maltas', 'public', 'hospitals', 'this', 'is', 'a', 'shocking', 'situationgovernmentsponsored', 'trolls', 'and', 'brightandbeautiful', 'supporters', 'of', 'the', 'labour', 'party', 'will', 'now', 'be', 'out', 'in', 'force', 'on', 'the', 'internet', 'to', 'counter', 'mrs', 'gomess', 'accusations', 'with', 'some', 'carefully', 'crafted', 'arguments', 'of', 'their', 'own', 'kemm', 'hi', 'kera', 'maaaa', 'dik', 'anda', 'bzon', 'xi', 'zop', 'ta', 'iswed', 'hi', 'dik', 'ax', 'tejr', 'al', 'michelle', 'disabled', 'drivers', 'registered', 'with', 'the', 'national', 'commission', 'for', 'the', 'disabled', 'who', 'hold', 'a', 'blue', 'badge', 'entitling', 'them', 'to', 'special', 'parking', 'privileges', 'may', 'also', 'benefit', 'under', 'the', 'law', 'from', 'a', 'full', 'or', 'partial', 'exemption', 'from', 'paying', 'registration', 'tax', 'when', 'they', 'buy', 'a', 'new', 'car', 'and', 'also', 'from', 'a', 'free', 'road', 'licenceread', 'here', 'and', 'hereif', 'dorothy', 'busuttil', 'fitzpatrick', 'who', 'is', 'married', 'to', 'labour', 'mp', 'and', 'malta', 'sports', 'council', 'chairman', 'luciano', 'busuttil', 'bought', 'her', 'alfa', 'romeo', 'car', 'in', 'the', 'last', 'four', 'years', 'she', 'was', 'registered', 'as', 'a', 'disabled', 'driver', 'in', 'despite', 'never', 'being', 'seen', 'without', 'a', 'pair', 'of', 'high', 'heels', 'on', 'she', 'may', 'have', 'been', 'exempted', 'from', 'all', 'or', 'part', 'of', 'the', 'registration', 'tax', 'on', 'it', 'and', 'may', 'also', 'have', 'benefited', 'from', 'a', 'waiver', 'on', 'full', 'road', 'licence', 'fees', 'for', 'the', 'last', 'four', 'yearsthis', 'is', 'the', 'story', 'background', 'you', 'need', 'if', 'youre', 'not', 'up', 'to', 'speedi', 'have', 'tried', 'to', 'ring', 'luciano', 'busuttil', 'to', 'ask', 'him', 'whether', 'his', 'disabled', 'wife', 'has', 'benefitted', 'from', 'the', 'government', 'scheme', 'and', 'paid', 'no', 'registration', 'tax', 'when', 'buying', 'her', 'car', 'and', 'whether', 'she', 'has', 'been', 'exempted', 'from', 'road', 'licence', 'fees', 'in', 'the', 'last', 'four', 'years', 'but', 'he', 'let', 'the', 'phone', 'ring', 'and', 'didnt', 'even', 'bother', 'hitting', 'the', 'callreject', 'button', 'this', 'time', 'meanwhile', 'i', 'have', 'sent', 'him', 'the', 'following', 'message', 'and', 'will', 'let', 'you', 'know', 'if', 'and', 'when', 'i', 'receive', 'a', 'replyfurther', 'to', 'the', 'blue', 'badge', 'reports', 'did', 'your', 'wife', 'benefit', 'from', 'full', 'or', 'part', 'exemption', 'on', 'car', 'registration', 'tax', 'andor', 'free', 'road', 'licence']\n"
     ]
    }
   ],
   "source": [
    "def clean_doc(doc):\n",
    "\n",
    "     clean_words= []\n",
    "\n",
    "     words = word_tokenize(text) #tokenise text into words\n",
    "    \n",
    "     for word in words: #for every word\n",
    "           word = word.strip(string.punctuation) #remove punctuation\n",
    "           #eliminate specified words\n",
    "           if len(word)>=1 and word.isdigit()==False and word not in (\"äì\",\"\\n\",\"Äô\",\"\\n\\n\",'\\u2009','\\xa0','n’t',',','.','\\n  \\n\\n  \\n',' \\n\\n','“','\\n\\n  \\n',':','-'):\n",
    "                    word = word.lower() #make everything lowercase \n",
    "                    clean_words.append(word) #append the clean free from punctuation list\n",
    "                        \n",
    "     return clean_words # return list which is now our new vocabulary\n",
    "\n",
    "token=clean_doc(text)\n",
    "print(token)"
   ]
  },
  {
   "cell_type": "code",
   "execution_count": null,
   "metadata": {},
   "outputs": [],
   "source": []
  },
  {
   "cell_type": "code",
   "execution_count": 33,
   "metadata": {},
   "outputs": [],
   "source": [
    "#wd = WordNetLemmatizer()\n",
    "#newDict = []\n",
    "#for w in token:\n",
    "        #newDict.append(wd.lemmatize(w))\n",
    "vocab_size = len(token)\n",
    "#print(newDict)\n",
    "#print(vocab_size)\n",
    "#print(newDict)"
   ]
  },
  {
   "cell_type": "code",
   "execution_count": null,
   "metadata": {},
   "outputs": [],
   "source": []
  },
  {
   "cell_type": "code",
   "execution_count": 34,
   "metadata": {},
   "outputs": [],
   "source": [
    "sequence_len=30\n",
    "seq=[]\n",
    "for i in range(0,len(token)-sequence_len):\n",
    "    seq.append(token[i:i+sequence_len])"
   ]
  },
  {
   "cell_type": "code",
   "execution_count": 35,
   "metadata": {},
   "outputs": [],
   "source": [
    "tokenizer = Tokenizer()\n",
    "tokenizer.fit_on_texts(seq)\n",
    "sequence = tokenizer.texts_to_sequences(seq)"
   ]
  },
  {
   "cell_type": "code",
   "execution_count": 36,
   "metadata": {},
   "outputs": [
    {
     "name": "stdout",
     "output_type": "stream",
     "text": [
      "6839\n"
     ]
    }
   ],
   "source": [
    "#print(sequence[2])\n",
    "\n",
    "print(len(sequence))\n",
    "import numpy as np\n",
    "arr=np.array(sequence)\n",
    "\n",
    "X, Y = arr[:,:-1], arr[:,-1]\n",
    "Y=to_categorical(Y,num_classes=vocab_size)"
   ]
  },
  {
   "cell_type": "code",
   "execution_count": null,
   "metadata": {},
   "outputs": [],
   "source": []
  },
  {
   "cell_type": "code",
   "execution_count": 37,
   "metadata": {},
   "outputs": [
    {
     "name": "stdout",
     "output_type": "stream",
     "text": [
      "Model: \"sequential_4\"\n",
      "_________________________________________________________________\n",
      "Layer (type)                 Output Shape              Param #   \n",
      "=================================================================\n",
      "embedding_4 (Embedding)      (None, 29, 150)           1030350   \n",
      "_________________________________________________________________\n",
      "lstm_8 (LSTM)                (None, 29, 512)           1357824   \n",
      "_________________________________________________________________\n",
      "lstm_9 (LSTM)                (None, 512)               2099200   \n",
      "_________________________________________________________________\n",
      "dropout_4 (Dropout)          (None, 512)               0         \n",
      "_________________________________________________________________\n",
      "dense_8 (Dense)              (None, 512)               262656    \n",
      "_________________________________________________________________\n",
      "dense_9 (Dense)              (None, 6869)              3523797   \n",
      "=================================================================\n",
      "Total params: 8,273,827\n",
      "Trainable params: 8,273,827\n",
      "Non-trainable params: 0\n",
      "_________________________________________________________________\n",
      "None\n"
     ]
    }
   ],
   "source": [
    "from tensorflow.keras.models import Sequential\n",
    "from tensorflow.keras.layers import Dense,LSTM,Embedding\n",
    "\n",
    "seq_length = X.shape[1]\n",
    "\n",
    "model = Sequential()\n",
    "model.add(Embedding(vocab_size, 150, input_length=seq_length))\n",
    "model.add(LSTM(512, return_sequences=True))\n",
    "model.add(LSTM(512)) \n",
    "model.add(layers.Dropout(0.2)) # dropout layer \n",
    "model.add(Dense(512, activation='relu'))\n",
    "model.add(Dense(vocab_size, activation='softmax'))\n",
    "print(model.summary())"
   ]
  },
  {
   "cell_type": "code",
   "execution_count": 38,
   "metadata": {},
   "outputs": [],
   "source": [
    "model.compile(loss='categorical_crossentropy',\n",
    "optimizer='adam', metrics=['accuracy'])"
   ]
  },
  {
   "cell_type": "code",
   "execution_count": 39,
   "metadata": {},
   "outputs": [
    {
     "name": "stdout",
     "output_type": "stream",
     "text": [
      "Train on 6839 samples\n",
      "Epoch 1/150\n",
      "6839/6839 [==============================] - 80s 12ms/sample - loss: 7.1628 - accuracy: 0.0516\n",
      "Epoch 2/150\n",
      "6839/6839 [==============================] - 81s 12ms/sample - loss: 6.4066 - accuracy: 0.0595\n",
      "Epoch 3/150\n",
      "6839/6839 [==============================] - 68s 10ms/sample - loss: 6.2399 - accuracy: 0.0614\n",
      "Epoch 4/150\n",
      "6839/6839 [==============================] - 71s 10ms/sample - loss: 6.1235 - accuracy: 0.0646\n",
      "Epoch 5/150\n",
      "6839/6839 [==============================] - 68s 10ms/sample - loss: 5.9992 - accuracy: 0.0696\n",
      "Epoch 6/150\n",
      "6839/6839 [==============================] - 66s 10ms/sample - loss: 5.8877 - accuracy: 0.0753\n",
      "Epoch 7/150\n",
      "6839/6839 [==============================] - 67s 10ms/sample - loss: 5.7750 - accuracy: 0.0775\n",
      "Epoch 8/150\n",
      "6839/6839 [==============================] - 66s 10ms/sample - loss: 5.6498 - accuracy: 0.0871\n",
      "Epoch 9/150\n",
      "6839/6839 [==============================] - 70s 10ms/sample - loss: 5.5133 - accuracy: 0.0886\n",
      "Epoch 10/150\n",
      "6839/6839 [==============================] - 67s 10ms/sample - loss: 5.3801 - accuracy: 0.0945\n",
      "Epoch 11/150\n",
      "6839/6839 [==============================] - 78s 11ms/sample - loss: 5.2862 - accuracy: 0.0986\n",
      "Epoch 12/150\n",
      "6839/6839 [==============================] - 84s 12ms/sample - loss: 5.1875 - accuracy: 0.1006\n",
      "Epoch 13/150\n",
      "6839/6839 [==============================] - 90s 13ms/sample - loss: 5.1043 - accuracy: 0.1063\n",
      "Epoch 14/150\n",
      "6839/6839 [==============================] - 94s 14ms/sample - loss: 5.0057 - accuracy: 0.1124\n",
      "Epoch 15/150\n",
      "6839/6839 [==============================] - 91s 13ms/sample - loss: 4.9222 - accuracy: 0.1167\n",
      "Epoch 16/150\n",
      "6839/6839 [==============================] - 85s 12ms/sample - loss: 4.8360 - accuracy: 0.1222\n",
      "Epoch 17/150\n",
      "6839/6839 [==============================] - 71s 10ms/sample - loss: 4.7443 - accuracy: 0.1240\n",
      "Epoch 18/150\n",
      "6839/6839 [==============================] - 68s 10ms/sample - loss: 4.6619 - accuracy: 0.1284\n",
      "Epoch 19/150\n",
      "6839/6839 [==============================] - 66s 10ms/sample - loss: 4.5581 - accuracy: 0.1342\n",
      "Epoch 20/150\n",
      "6839/6839 [==============================] - 69s 10ms/sample - loss: 4.4523 - accuracy: 0.1417\n",
      "Epoch 21/150\n",
      "6839/6839 [==============================] - 66s 10ms/sample - loss: 4.3296 - accuracy: 0.1490\n",
      "Epoch 22/150\n",
      "6839/6839 [==============================] - 73s 11ms/sample - loss: 4.2258 - accuracy: 0.1550\n",
      "Epoch 23/150\n",
      "6839/6839 [==============================] - 70s 10ms/sample - loss: 4.1277 - accuracy: 0.1554\n",
      "Epoch 24/150\n",
      "6839/6839 [==============================] - 71s 10ms/sample - loss: 4.0087 - accuracy: 0.1622\n",
      "Epoch 25/150\n",
      "6839/6839 [==============================] - 67s 10ms/sample - loss: 5.0684 - accuracy: 0.1148\n",
      "Epoch 26/150\n",
      "6839/6839 [==============================] - 110s 16ms/sample - loss: 4.9658 - accuracy: 0.1174\n",
      "Epoch 27/150\n",
      "6839/6839 [==============================] - 66s 10ms/sample - loss: 4.6077 - accuracy: 0.1355\n",
      "Epoch 28/150\n",
      "6839/6839 [==============================] - 66s 10ms/sample - loss: 4.3504 - accuracy: 0.1503\n",
      "Epoch 29/150\n",
      "6839/6839 [==============================] - 68s 10ms/sample - loss: 4.1756 - accuracy: 0.1613\n",
      "Epoch 30/150\n",
      "6839/6839 [==============================] - 69s 10ms/sample - loss: 4.0205 - accuracy: 0.1673\n",
      "Epoch 31/150\n",
      "6839/6839 [==============================] - 68s 10ms/sample - loss: 3.9231 - accuracy: 0.1758\n",
      "Epoch 32/150\n",
      "6839/6839 [==============================] - 70s 10ms/sample - loss: 3.8279 - accuracy: 0.1785\n",
      "Epoch 33/150\n",
      "6839/6839 [==============================] - 68s 10ms/sample - loss: 3.7191 - accuracy: 0.1932\n",
      "Epoch 34/150\n",
      "6839/6839 [==============================] - 70s 10ms/sample - loss: 3.6206 - accuracy: 0.2043\n",
      "Epoch 35/150\n",
      "6839/6839 [==============================] - 68s 10ms/sample - loss: 3.5097 - accuracy: 0.2215\n",
      "Epoch 36/150\n",
      "6839/6839 [==============================] - 135s 20ms/sample - loss: 3.4049 - accuracy: 0.2345\n",
      "Epoch 37/150\n",
      "6839/6839 [==============================] - 95s 14ms/sample - loss: 3.3098 - accuracy: 0.2480\n",
      "Epoch 38/150\n",
      "6839/6839 [==============================] - 104s 15ms/sample - loss: 3.2475 - accuracy: 0.2582\n",
      "Epoch 39/150\n",
      "6839/6839 [==============================] - 87s 13ms/sample - loss: 3.1704 - accuracy: 0.2698\n",
      "Epoch 40/150\n",
      "6839/6839 [==============================] - 77s 11ms/sample - loss: 3.0789 - accuracy: 0.2815\n",
      "Epoch 41/150\n",
      "6839/6839 [==============================] - 70s 10ms/sample - loss: 2.9557 - accuracy: 0.2987\n",
      "Epoch 42/150\n",
      "6839/6839 [==============================] - 67s 10ms/sample - loss: 2.8921 - accuracy: 0.3180\n",
      "Epoch 43/150\n",
      "6839/6839 [==============================] - 69s 10ms/sample - loss: 2.8093 - accuracy: 0.3315\n",
      "Epoch 44/150\n",
      "6839/6839 [==============================] - 69s 10ms/sample - loss: 2.8640 - accuracy: 0.3357\n",
      "Epoch 45/150\n",
      "6839/6839 [==============================] - 79s 12ms/sample - loss: 2.8032 - accuracy: 0.3233\n",
      "Epoch 46/150\n",
      "6839/6839 [==============================] - 84s 12ms/sample - loss: 2.5703 - accuracy: 0.3663\n",
      "Epoch 47/150\n",
      "6839/6839 [==============================] - 92s 13ms/sample - loss: 2.4739 - accuracy: 0.3888\n",
      "Epoch 48/150\n",
      "6839/6839 [==============================] - 81s 12ms/sample - loss: 2.3902 - accuracy: 0.4078\n",
      "Epoch 49/150\n",
      "6839/6839 [==============================] - 79s 12ms/sample - loss: 2.3315 - accuracy: 0.4208\n",
      "Epoch 50/150\n",
      "6839/6839 [==============================] - 80s 12ms/sample - loss: 2.2984 - accuracy: 0.4261\n",
      "Epoch 51/150\n",
      "6839/6839 [==============================] - 80s 12ms/sample - loss: 2.2247 - accuracy: 0.4401\n",
      "Epoch 52/150\n",
      "6839/6839 [==============================] - 79s 12ms/sample - loss: 2.1476 - accuracy: 0.4597\n",
      "Epoch 53/150\n",
      "6839/6839 [==============================] - 81s 12ms/sample - loss: 2.0609 - accuracy: 0.4748\n",
      "Epoch 54/150\n",
      "6839/6839 [==============================] - 81s 12ms/sample - loss: 2.0457 - accuracy: 0.4786\n",
      "Epoch 55/150\n",
      "6839/6839 [==============================] - 74s 11ms/sample - loss: 1.9448 - accuracy: 0.4947\n",
      "Epoch 56/150\n",
      "6839/6839 [==============================] - 81s 12ms/sample - loss: 1.8506 - accuracy: 0.5150\n",
      "Epoch 57/150\n",
      "6839/6839 [==============================] - 76s 11ms/sample - loss: 1.7782 - accuracy: 0.5299\n",
      "Epoch 58/150\n",
      "6839/6839 [==============================] - 95s 14ms/sample - loss: 1.7183 - accuracy: 0.5493\n",
      "Epoch 59/150\n",
      "6839/6839 [==============================] - 90s 13ms/sample - loss: 1.6530 - accuracy: 0.5653\n",
      "Epoch 60/150\n",
      "6839/6839 [==============================] - 96s 14ms/sample - loss: 1.5715 - accuracy: 0.5708\n",
      "Epoch 61/150\n",
      "6839/6839 [==============================] - 131s 19ms/sample - loss: 1.5039 - accuracy: 0.5950\n",
      "Epoch 62/150\n",
      "6839/6839 [==============================] - 165s 24ms/sample - loss: 1.4318 - accuracy: 0.6081\n",
      "Epoch 63/150\n",
      "6839/6839 [==============================] - 160s 23ms/sample - loss: 1.3816 - accuracy: 0.6263\n",
      "Epoch 64/150\n",
      "6839/6839 [==============================] - 112s 16ms/sample - loss: 1.3319 - accuracy: 0.6336\n",
      "Epoch 65/150\n",
      "6839/6839 [==============================] - 80s 12ms/sample - loss: 1.3178 - accuracy: 0.6399\n",
      "Epoch 66/150\n",
      "6839/6839 [==============================] - 73s 11ms/sample - loss: 1.2609 - accuracy: 0.6568\n",
      "Epoch 67/150\n",
      "6839/6839 [==============================] - 71s 10ms/sample - loss: 1.2042 - accuracy: 0.6700\n",
      "Epoch 68/150\n",
      "6839/6839 [==============================] - 85s 12ms/sample - loss: 1.1747 - accuracy: 0.6824\n",
      "Epoch 69/150\n",
      "6839/6839 [==============================] - 93s 14ms/sample - loss: 1.1241 - accuracy: 0.6868\n",
      "Epoch 70/150\n",
      "6839/6839 [==============================] - 77s 11ms/sample - loss: 1.0867 - accuracy: 0.7008\n",
      "Epoch 71/150\n",
      "6839/6839 [==============================] - 90s 13ms/sample - loss: 1.0564 - accuracy: 0.7060\n",
      "Epoch 72/150\n",
      "6839/6839 [==============================] - 101s 15ms/sample - loss: 1.0128 - accuracy: 0.7210\n",
      "Epoch 73/150\n",
      "6839/6839 [==============================] - 105s 15ms/sample - loss: 0.9423 - accuracy: 0.7459\n",
      "Epoch 74/150\n",
      "6839/6839 [==============================] - 96s 14ms/sample - loss: 0.9205 - accuracy: 0.7434\n",
      "Epoch 75/150\n",
      "6839/6839 [==============================] - 82s 12ms/sample - loss: 0.8640 - accuracy: 0.7560\n",
      "Epoch 76/150\n",
      "6839/6839 [==============================] - 88s 13ms/sample - loss: 0.8355 - accuracy: 0.7677\n",
      "Epoch 77/150\n",
      "6839/6839 [==============================] - 101s 15ms/sample - loss: 0.8220 - accuracy: 0.7779\n",
      "Epoch 78/150\n",
      "6839/6839 [==============================] - 84s 12ms/sample - loss: 0.7680 - accuracy: 0.7845\n",
      "Epoch 79/150\n",
      "6839/6839 [==============================] - 88s 13ms/sample - loss: 0.9010 - accuracy: 0.7747\n",
      "Epoch 80/150\n",
      "6839/6839 [==============================] - 90s 13ms/sample - loss: 1.0157 - accuracy: 0.7484\n",
      "Epoch 81/150\n",
      "6839/6839 [==============================] - 89s 13ms/sample - loss: 1.3414 - accuracy: 0.6921\n",
      "Epoch 82/150\n",
      "6839/6839 [==============================] - 87s 13ms/sample - loss: 2.4135 - accuracy: 0.4574\n",
      "Epoch 83/150\n",
      "6839/6839 [==============================] - 98s 14ms/sample - loss: 1.6314 - accuracy: 0.5776\n",
      "Epoch 84/150\n",
      "6839/6839 [==============================] - 86s 13ms/sample - loss: 1.3862 - accuracy: 0.6321\n",
      "Epoch 85/150\n",
      "6839/6839 [==============================] - 97s 14ms/sample - loss: 1.2507 - accuracy: 0.6707\n",
      "Epoch 86/150\n",
      "6839/6839 [==============================] - 130s 19ms/sample - loss: 1.0984 - accuracy: 0.7011\n",
      "Epoch 87/150\n",
      "6839/6839 [==============================] - 86s 13ms/sample - loss: 1.0073 - accuracy: 0.7282\n",
      "Epoch 88/150\n",
      "6839/6839 [==============================] - 96s 14ms/sample - loss: 1.0125 - accuracy: 0.7257\n",
      "Epoch 89/150\n",
      "6839/6839 [==============================] - 88s 13ms/sample - loss: 0.9631 - accuracy: 0.7353\n",
      "Epoch 90/150\n",
      "6839/6839 [==============================] - 82s 12ms/sample - loss: 0.8742 - accuracy: 0.7622\n",
      "Epoch 91/150\n",
      "6839/6839 [==============================] - 89s 13ms/sample - loss: 0.8063 - accuracy: 0.7732\n",
      "Epoch 92/150\n",
      "6839/6839 [==============================] - 86s 13ms/sample - loss: 0.7504 - accuracy: 0.7858\n",
      "Epoch 93/150\n",
      "6839/6839 [==============================] - 98s 14ms/sample - loss: 0.6842 - accuracy: 0.8045\n",
      "Epoch 94/150\n",
      "6839/6839 [==============================] - 102s 15ms/sample - loss: 0.5839 - accuracy: 0.8310\n",
      "Epoch 95/150\n",
      "6839/6839 [==============================] - 87s 13ms/sample - loss: 0.5059 - accuracy: 0.8604\n",
      "Epoch 96/150\n",
      "6839/6839 [==============================] - 91s 13ms/sample - loss: 0.4477 - accuracy: 0.8740\n",
      "Epoch 97/150\n",
      "6839/6839 [==============================] - 93s 14ms/sample - loss: 0.4269 - accuracy: 0.8782\n",
      "Epoch 98/150\n",
      "6839/6839 [==============================] - 107s 16ms/sample - loss: 0.3962 - accuracy: 0.8908\n",
      "Epoch 99/150\n",
      "6839/6839 [==============================] - 91s 13ms/sample - loss: 0.3976 - accuracy: 0.8924\n",
      "Epoch 100/150\n",
      "6839/6839 [==============================] - 93s 14ms/sample - loss: 0.3624 - accuracy: 0.8981\n",
      "Epoch 101/150\n",
      "6839/6839 [==============================] - 98s 14ms/sample - loss: 0.3582 - accuracy: 0.9019\n",
      "Epoch 102/150\n",
      "6839/6839 [==============================] - 115s 17ms/sample - loss: 0.3245 - accuracy: 0.9149\n",
      "Epoch 103/150\n",
      "6839/6839 [==============================] - 106s 15ms/sample - loss: 0.3106 - accuracy: 0.9177\n",
      "Epoch 104/150\n",
      "6839/6839 [==============================] - 103s 15ms/sample - loss: 0.2933 - accuracy: 0.9206\n",
      "Epoch 105/150\n",
      "6839/6839 [==============================] - 103s 15ms/sample - loss: 0.2835 - accuracy: 0.9238\n",
      "Epoch 106/150\n",
      "6839/6839 [==============================] - 106s 15ms/sample - loss: 0.2836 - accuracy: 0.9241\n",
      "Epoch 107/150\n",
      "6839/6839 [==============================] - 104s 15ms/sample - loss: 0.2538 - accuracy: 0.9355\n",
      "Epoch 108/150\n",
      "6839/6839 [==============================] - 98s 14ms/sample - loss: 0.2365 - accuracy: 0.9395\n",
      "Epoch 109/150\n",
      "6839/6839 [==============================] - 100s 15ms/sample - loss: 0.2174 - accuracy: 0.9436\n",
      "Epoch 110/150\n",
      "6839/6839 [==============================] - 94s 14ms/sample - loss: 0.2140 - accuracy: 0.9450\n",
      "Epoch 111/150\n",
      "6839/6839 [==============================] - 101s 15ms/sample - loss: 0.2152 - accuracy: 0.9439\n",
      "Epoch 112/150\n",
      "6839/6839 [==============================] - 121s 18ms/sample - loss: 0.1940 - accuracy: 0.9504\n",
      "Epoch 113/150\n",
      "6839/6839 [==============================] - 96s 14ms/sample - loss: 0.2042 - accuracy: 0.9469\n",
      "Epoch 114/150\n",
      "6839/6839 [==============================] - 97s 14ms/sample - loss: 0.1962 - accuracy: 0.9466\n",
      "Epoch 115/150\n",
      "6839/6839 [==============================] - 95s 14ms/sample - loss: 0.1812 - accuracy: 0.9531\n",
      "Epoch 116/150\n",
      "6839/6839 [==============================] - 93s 14ms/sample - loss: 0.1656 - accuracy: 0.9579\n",
      "Epoch 117/150\n",
      "6839/6839 [==============================] - 98s 14ms/sample - loss: 0.1726 - accuracy: 0.9545\n",
      "Epoch 118/150\n",
      "6839/6839 [==============================] - 95s 14ms/sample - loss: 0.1788 - accuracy: 0.9490\n",
      "Epoch 119/150\n",
      "6839/6839 [==============================] - 91s 13ms/sample - loss: 0.1636 - accuracy: 0.9594\n",
      "Epoch 120/150\n",
      "6839/6839 [==============================] - 93s 14ms/sample - loss: 0.1513 - accuracy: 0.9592\n",
      "Epoch 121/150\n",
      "6839/6839 [==============================] - 87s 13ms/sample - loss: 0.1494 - accuracy: 0.9620\n",
      "Epoch 122/150\n",
      "6839/6839 [==============================] - 108s 16ms/sample - loss: 0.1299 - accuracy: 0.9658\n",
      "Epoch 123/150\n",
      "6839/6839 [==============================] - 85s 12ms/sample - loss: 0.1272 - accuracy: 0.9675\n",
      "Epoch 124/150\n",
      "6839/6839 [==============================] - 124s 18ms/sample - loss: 0.1699 - accuracy: 0.9547\n",
      "Epoch 125/150\n",
      "6839/6839 [==============================] - 118s 17ms/sample - loss: 0.2054 - accuracy: 0.9468\n",
      "Epoch 126/150\n",
      "6839/6839 [==============================] - 80s 12ms/sample - loss: 0.1762 - accuracy: 0.9534\n",
      "Epoch 127/150\n",
      "6839/6839 [==============================] - 98s 14ms/sample - loss: 0.1624 - accuracy: 0.9573\n",
      "Epoch 128/150\n",
      "6839/6839 [==============================] - 97s 14ms/sample - loss: 0.1681 - accuracy: 0.9567\n",
      "Epoch 129/150\n",
      "6839/6839 [==============================] - 97s 14ms/sample - loss: 0.1424 - accuracy: 0.9627\n",
      "Epoch 130/150\n",
      "6839/6839 [==============================] - 83s 12ms/sample - loss: 0.1312 - accuracy: 0.9643\n",
      "Epoch 131/150\n",
      "6839/6839 [==============================] - 105s 15ms/sample - loss: 0.1181 - accuracy: 0.9667\n",
      "Epoch 132/150\n",
      "6839/6839 [==============================] - 91s 13ms/sample - loss: 0.1106 - accuracy: 0.9690\n",
      "Epoch 133/150\n",
      "6839/6839 [==============================] - 93s 14ms/sample - loss: 0.1040 - accuracy: 0.9721\n",
      "Epoch 134/150\n",
      "6839/6839 [==============================] - 129s 19ms/sample - loss: 0.0928 - accuracy: 0.9770\n",
      "Epoch 135/150\n",
      "6839/6839 [==============================] - 112s 16ms/sample - loss: 0.1044 - accuracy: 0.9765\n",
      "Epoch 136/150\n",
      "6839/6839 [==============================] - 103s 15ms/sample - loss: 0.1112 - accuracy: 0.9683\n",
      "Epoch 137/150\n",
      "6839/6839 [==============================] - 101s 15ms/sample - loss: 0.1201 - accuracy: 0.9665\n",
      "Epoch 138/150\n",
      "6839/6839 [==============================] - 117s 17ms/sample - loss: 0.1485 - accuracy: 0.9617\n",
      "Epoch 139/150\n",
      "6839/6839 [==============================] - 107s 16ms/sample - loss: 0.1487 - accuracy: 0.9586\n",
      "Epoch 140/150\n",
      "6839/6839 [==============================] - 113s 17ms/sample - loss: 0.1370 - accuracy: 0.9596\n",
      "Epoch 141/150\n",
      "6839/6839 [==============================] - 125s 18ms/sample - loss: 0.1663 - accuracy: 0.9563\n",
      "Epoch 142/150\n",
      "6839/6839 [==============================] - 130s 19ms/sample - loss: 0.1570 - accuracy: 0.9588\n",
      "Epoch 143/150\n",
      "6839/6839 [==============================] - 122s 18ms/sample - loss: 0.4351 - accuracy: 0.8849\n",
      "Epoch 144/150\n",
      "6839/6839 [==============================] - 143s 21ms/sample - loss: 0.2884 - accuracy: 0.9200\n",
      "Epoch 145/150\n",
      "6839/6839 [==============================] - 130s 19ms/sample - loss: 0.1728 - accuracy: 0.9525\n",
      "Epoch 146/150\n",
      "6839/6839 [==============================] - 125s 18ms/sample - loss: 0.1252 - accuracy: 0.9662\n",
      "Epoch 147/150\n",
      "6839/6839 [==============================] - 115s 17ms/sample - loss: 0.1119 - accuracy: 0.9712\n",
      "Epoch 148/150\n",
      "6839/6839 [==============================] - 111s 16ms/sample - loss: 0.0720 - accuracy: 0.9808\n",
      "Epoch 149/150\n",
      "6839/6839 [==============================] - 109s 16ms/sample - loss: 0.0700 - accuracy: 0.9825\n",
      "Epoch 150/150\n",
      "6839/6839 [==============================] - 91s 13ms/sample - loss: 0.0617 - accuracy: 0.9860\n"
     ]
    },
    {
     "data": {
      "text/plain": [
       "<tensorflow.python.keras.callbacks.History at 0x1c5c777350>"
      ]
     },
     "execution_count": 39,
     "metadata": {},
     "output_type": "execute_result"
    }
   ],
   "source": [
    "model.fit(X, Y, batch_size=80, epochs=150)"
   ]
  },
  {
   "cell_type": "code",
   "execution_count": 40,
   "metadata": {},
   "outputs": [],
   "source": [
    "### Length of extracted word sequences\n",
    "maxlen = 30\n",
    "\n",
    "# We sample a new sequence every `step` words\n",
    "step = 1\n",
    "\n",
    "# This holds our extracted sequences\n",
    "sentences = []\n",
    "\n",
    "# This holds the targets (the follow-up words)\n",
    "next_words = []\n",
    "\n",
    "for i in range(0, len(token) - maxlen, step):\n",
    "    sentences.append(token[i: i + maxlen])\n",
    "    next_words.append(token[i + maxlen])"
   ]
  },
  {
   "cell_type": "code",
   "execution_count": null,
   "metadata": {},
   "outputs": [],
   "source": []
  },
  {
   "cell_type": "code",
   "execution_count": 41,
   "metadata": {},
   "outputs": [
    {
     "name": "stderr",
     "output_type": "stream",
     "text": [
      "[nltk_data] Downloading package punkt to\n",
      "[nltk_data]     /Users/marlontabone/nltk_data...\n",
      "[nltk_data]   Package punkt is already up-to-date!\n"
     ]
    },
    {
     "name": "stdout",
     "output_type": "stream",
     "text": [
      "Seed: meant to scrutinise and not in the service of the publicthe people hounding jason azzopardi and hanging around his office door are not journalists but labour party employees and the\n",
      "meant to scrutinise and not in the service of the publicthe people hounding jason azzopardi and hanging around his office door are not journalists but labour party employees and thesooner we get this straight the better they dont even make any attempt at pretending that what they are doing is journalism and they are not after the truth or the facts but are there as agents of the governing party to harass politicians of the rival opposition party that is not an exercise in democracy and freedom of expression but the precise oppositewhich brings me to another related point the labour party is in government it is in power it should understand that the tactics it used when in opposition look really very ugly now it is one thing\n"
     ]
    }
   ],
   "source": [
    "import string\n",
    "from tensorflow.keras.preprocessing.text import Tokenizer\n",
    "from tensorflow.keras.utils import to_categorical\n",
    "from nltk.tokenize import word_tokenize\n",
    "import nltk\n",
    "import random as rand\n",
    "nltk.download('punkt')\n",
    "\n",
    "from tensorflow.keras.preprocessing.sequence import pad_sequences\n",
    "from nltk.tokenize.treebank import TreebankWordDetokenizer\n",
    "\n",
    "\n",
    "tokenised_text = sentences[rand.randrange(len(sentences))]\n",
    "seed_text = TreebankWordDetokenizer().detokenize(tokenised_text)\n",
    "\n",
    "def generate_seq(model,tokenizer,seq_length,seed_text,n_words):\n",
    "\n",
    "     result = []\n",
    "     in_text =seed_text\n",
    "     for i in range(n_words):\n",
    "          encoded = tokenizer.texts_to_sequences([in_text])[0]\n",
    "          encoded = pad_sequences([encoded], maxlen=seq_length, truncating='pre')\n",
    "          yhat = model.predict_classes(encoded)\n",
    "          out_word = ''\n",
    "          for word,index in tokenizer.word_index.items():\n",
    "               if index==yhat:\n",
    "                  out_word = word\n",
    "                  break\n",
    "          in_text+=' ' + out_word\n",
    "          result.append(word)\n",
    "     return ' '.join(result)\n",
    "\n",
    "\n",
    "generated = generate_seq(model, tokenizer, seq_length, seed_text, 100)\n",
    "print(\"Seed: \"+seed_text)\n",
    "print(seed_text + generated)"
   ]
  },
  {
   "cell_type": "code",
   "execution_count": 42,
   "metadata": {},
   "outputs": [
    {
     "name": "stdout",
     "output_type": "stream",
     "text": [
      "Saved model to disk\n"
     ]
    }
   ],
   "source": [
    "model.save(\"blocks.h5\")\n",
    "print(\"Saved model to disk\")"
   ]
  },
  {
   "cell_type": "code",
   "execution_count": null,
   "metadata": {},
   "outputs": [],
   "source": []
  }
 ],
 "metadata": {
  "kernelspec": {
   "display_name": "Python 3",
   "language": "python",
   "name": "python3"
  },
  "language_info": {
   "codemirror_mode": {
    "name": "ipython",
    "version": 3
   },
   "file_extension": ".py",
   "mimetype": "text/x-python",
   "name": "python",
   "nbconvert_exporter": "python",
   "pygments_lexer": "ipython3",
   "version": "3.7.6"
  }
 },
 "nbformat": 4,
 "nbformat_minor": 4
}
